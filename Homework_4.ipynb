{
 "cells": [
  {
   "cell_type": "markdown",
   "metadata": {},
   "source": [
    "# Homework 4\n",
    "Brandon Hawkins"
   ]
  },
  {
   "cell_type": "markdown",
   "metadata": {},
   "source": [
    "The goal of this assigment is to predict household poverty levels given individual and household information. We are going to try and approximate a household's poverty level based on factors such as education and the number of refrigerators in the house. "
   ]
  },
  {
   "cell_type": "markdown",
   "metadata": {},
   "source": [
    "To start I want to give credit to those that have helped me with this assignment. Listed below are the names of those who have helped."
   ]
  },
  {
   "cell_type": "markdown",
   "metadata": {},
   "source": [
    "Tyler Folkman - https://github.com/tfolkman <br>\n",
    "\n",
    "Will Koehrsen - https://www.kaggle.com/willkoehrsen <br>\n",
    "\n",
    "Conner Leavitt"
   ]
  },
  {
   "cell_type": "markdown",
   "metadata": {},
   "source": [
    "The remainder of this notebook will follow the following structure. The end goal is to have a data set that will best predict a houshold's poverty level."
   ]
  },
  {
   "cell_type": "markdown",
   "metadata": {},
   "source": [
    "## Table of Contents\n",
    "\n",
    "1) Analyze target <br>\n",
    "2) Clean the data set <br>\n",
    "3) Visualize the data <br>\n",
    "4) Use machine learning models to predict results <br>\n",
    "5) Discuss efectiveness of models <br>"
   ]
  },
  {
   "cell_type": "markdown",
   "metadata": {},
   "source": [
    "Let's begin by importing the necessary packages to work through our analysis."
   ]
  },
  {
   "cell_type": "code",
   "execution_count": 44,
   "metadata": {},
   "outputs": [],
   "source": [
    "import pandas as pd\n",
    "import numpy as np\n",
    "import seaborn as sns\n",
    "import matplotlib.pyplot as plt\n",
    "from sklearn.metrics import f1_score, make_scorer\n",
    "from sklearn.model_selection import train_test_split\n",
    "from sklearn import linear_model\n",
    "from sklearn.ensemble import RandomForestClassifier\n",
    "from sklearn.model_selection import GridSearchCV\n",
    "from sklearn.metrics import f1_score, classification_report\n",
    "from sklearn.naive_bayes import GaussianNB\n",
    "from sklearn.ensemble import GradientBoostingClassifier\n",
    "from sklearn.metrics import precision_recall_curve, average_precision_score\n",
    "from sklearn.metrics import precision_recall_fscore_support\n",
    "from sklearn.preprocessing import StandardScaler\n",
    "from sklearn.metrics import confusion_matrix\n",
    "\n",
    "%matplotlib inline\n",
    "\n",
    "#don't see warnings\n",
    "import warnings\n",
    "warnings.filterwarnings('ignore')"
   ]
  },
  {
   "cell_type": "markdown",
   "metadata": {},
   "source": [
    "Next, we will import our dataset. For the purpose of this homework assignment we will just download the training data set. If I were doing the Kaggle Competition I would have downloaded both the training and testing data and predicted the results of the testing data to submit, but since the deadline is past I will just be testing the models on their F1 scores."
   ]
  },
  {
   "cell_type": "code",
   "execution_count": 2,
   "metadata": {},
   "outputs": [],
   "source": [
    "#download training data set\n",
    "train = pd.read_csv(\"/Users/brandonhawkins/Downloads/povertytrain.csv\")"
   ]
  },
  {
   "cell_type": "markdown",
   "metadata": {},
   "source": [
    "## 1) Analyze target"
   ]
  },
  {
   "cell_type": "markdown",
   "metadata": {},
   "source": [
    "Our target variable measures the poverty level of the household. It is measured from a value 1-4. Kaggle describes the values listed below. <br>\n",
    "1 = Extreme poverty <br>\n",
    "2 = Moderate poverty <br>\n",
    "3 = Vulnerable households <br> \n",
    "4 = Non-vulnerable households <br> \n",
    "\n",
    "This means that for purposes for this assignment we are interested in predicting which poverty level a household falls into."
   ]
  },
  {
   "cell_type": "markdown",
   "metadata": {},
   "source": [
    "Let's go ahead and look at the summary statistics for our target."
   ]
  },
  {
   "cell_type": "code",
   "execution_count": 3,
   "metadata": {},
   "outputs": [
    {
     "data": {
      "text/plain": [
       "count    9557.000000\n",
       "mean        3.302292\n",
       "std         1.009565\n",
       "min         1.000000\n",
       "25%         3.000000\n",
       "50%         4.000000\n",
       "75%         4.000000\n",
       "max         4.000000\n",
       "Name: Target, dtype: float64"
      ]
     },
     "execution_count": 3,
     "metadata": {},
     "output_type": "execute_result"
    }
   ],
   "source": [
    "#defining target variable\n",
    "target = train['Target']\n",
    "target.describe()"
   ]
  },
  {
   "cell_type": "markdown",
   "metadata": {},
   "source": [
    "Looking at these statistics, we can see that there doesn't seem to be anything unusual about our data. All of our data falls between 1-4, which is what we expected. We can also see that our mean is around 3 which is described as a vulnerable household."
   ]
  },
  {
   "cell_type": "markdown",
   "metadata": {},
   "source": [
    "Let's look at how many households are represented by each poverty category to get and idea of how our data is spread."
   ]
  },
  {
   "cell_type": "code",
   "execution_count": 4,
   "metadata": {},
   "outputs": [
    {
     "data": {
      "text/plain": [
       "4    5996\n",
       "2    1597\n",
       "3    1209\n",
       "1     755\n",
       "Name: Target, dtype: int64"
      ]
     },
     "execution_count": 4,
     "metadata": {},
     "output_type": "execute_result"
    }
   ],
   "source": [
    "#count frequency of each poverty count\n",
    "target_counts = target.value_counts()\n",
    "target_counts.head()"
   ]
  },
  {
   "cell_type": "code",
   "execution_count": 5,
   "metadata": {},
   "outputs": [
    {
     "data": {
      "text/plain": [
       "Text(0.5,1,'Frequency of Poverty Levels in Dataset')"
      ]
     },
     "execution_count": 5,
     "metadata": {},
     "output_type": "execute_result"
    },
    {
     "data": {
      "image/png": "[encoded data removed]",
      "text/plain": [
       "<Figure size 432x288 with 1 Axes>"
      ]
     },
     "metadata": {},
     "output_type": "display_data"
    }
   ],
   "source": [
    "sns.countplot(x=\"Target\", data=train)\n",
    "plt.ylabel('Poverty Levels')\n",
    "plt.title('Frequency of Poverty Levels in Dataset')"
   ]
  },
  {
   "cell_type": "markdown",
   "metadata": {},
   "source": [
    "We can see from the data set that we have many more samples of data that are classified as non-vulnerable. This is a potential problem because the people we are likely more interested in are those in worse financial situations, but our data does not represent these groups very well. This is something important to keep in mind when analying our results."
   ]
  },
  {
   "cell_type": "markdown",
   "metadata": {},
   "source": [
    "# Clean the data set"
   ]
  },
  {
   "cell_type": "markdown",
   "metadata": {},
   "source": [
    "We now want to take a loot at our data and see what we are dealing with to get it ready for modelling. This section will be divided into the following steps. <br>\n",
    "1) Fix object data <br>\n",
    "2) Fix missing data <br>"
   ]
  },
  {
   "cell_type": "markdown",
   "metadata": {},
   "source": [
    "Let's start by looking at some basic information so we can get a good idea where to start."
   ]
  },
  {
   "cell_type": "code",
   "execution_count": 6,
   "metadata": {},
   "outputs": [
    {
     "data": {
      "text/html": [
       "<div>\n",
       "<style scoped>\n",
       "    .dataframe tbody tr th:only-of-type {\n",
       "        vertical-align: middle;\n",
       "    }\n",
       "\n",
       "    .dataframe tbody tr th {\n",
       "        vertical-align: top;\n",
       "    }\n",
       "\n",
       "    .dataframe thead th {\n",
       "        text-align: right;\n",
       "    }\n",
       "</style>\n",
       "<table border=\"1\" class=\"dataframe\">\n",
       "  <thead>\n",
       "    <tr style=\"text-align: right;\">\n",
       "      <th></th>\n",
       "      <th>Id</th>\n",
       "      <th>v2a1</th>\n",
       "      <th>hacdor</th>\n",
       "      <th>rooms</th>\n",
       "      <th>hacapo</th>\n",
       "      <th>v14a</th>\n",
       "      <th>refrig</th>\n",
       "      <th>v18q</th>\n",
       "      <th>v18q1</th>\n",
       "      <th>r4h1</th>\n",
       "      <th>...</th>\n",
       "      <th>SQBescolari</th>\n",
       "      <th>SQBage</th>\n",
       "      <th>SQBhogar_total</th>\n",
       "      <th>SQBedjefe</th>\n",
       "      <th>SQBhogar_nin</th>\n",
       "      <th>SQBovercrowding</th>\n",
       "      <th>SQBdependency</th>\n",
       "      <th>SQBmeaned</th>\n",
       "      <th>agesq</th>\n",
       "      <th>Target</th>\n",
       "    </tr>\n",
       "  </thead>\n",
       "  <tbody>\n",
       "    <tr>\n",
       "      <th>0</th>\n",
       "      <td>ID_279628684</td>\n",
       "      <td>190000.0</td>\n",
       "      <td>0</td>\n",
       "      <td>3</td>\n",
       "      <td>0</td>\n",
       "      <td>1</td>\n",
       "      <td>1</td>\n",
       "      <td>0</td>\n",
       "      <td>NaN</td>\n",
       "      <td>0</td>\n",
       "      <td>...</td>\n",
       "      <td>100</td>\n",
       "      <td>1849</td>\n",
       "      <td>1</td>\n",
       "      <td>100</td>\n",
       "      <td>0</td>\n",
       "      <td>1.000000</td>\n",
       "      <td>0.0</td>\n",
       "      <td>100.0</td>\n",
       "      <td>1849</td>\n",
       "      <td>4</td>\n",
       "    </tr>\n",
       "    <tr>\n",
       "      <th>1</th>\n",
       "      <td>ID_f29eb3ddd</td>\n",
       "      <td>135000.0</td>\n",
       "      <td>0</td>\n",
       "      <td>4</td>\n",
       "      <td>0</td>\n",
       "      <td>1</td>\n",
       "      <td>1</td>\n",
       "      <td>1</td>\n",
       "      <td>1.0</td>\n",
       "      <td>0</td>\n",
       "      <td>...</td>\n",
       "      <td>144</td>\n",
       "      <td>4489</td>\n",
       "      <td>1</td>\n",
       "      <td>144</td>\n",
       "      <td>0</td>\n",
       "      <td>1.000000</td>\n",
       "      <td>64.0</td>\n",
       "      <td>144.0</td>\n",
       "      <td>4489</td>\n",
       "      <td>4</td>\n",
       "    </tr>\n",
       "    <tr>\n",
       "      <th>2</th>\n",
       "      <td>ID_68de51c94</td>\n",
       "      <td>NaN</td>\n",
       "      <td>0</td>\n",
       "      <td>8</td>\n",
       "      <td>0</td>\n",
       "      <td>1</td>\n",
       "      <td>1</td>\n",
       "      <td>0</td>\n",
       "      <td>NaN</td>\n",
       "      <td>0</td>\n",
       "      <td>...</td>\n",
       "      <td>121</td>\n",
       "      <td>8464</td>\n",
       "      <td>1</td>\n",
       "      <td>0</td>\n",
       "      <td>0</td>\n",
       "      <td>0.250000</td>\n",
       "      <td>64.0</td>\n",
       "      <td>121.0</td>\n",
       "      <td>8464</td>\n",
       "      <td>4</td>\n",
       "    </tr>\n",
       "    <tr>\n",
       "      <th>3</th>\n",
       "      <td>ID_d671db89c</td>\n",
       "      <td>180000.0</td>\n",
       "      <td>0</td>\n",
       "      <td>5</td>\n",
       "      <td>0</td>\n",
       "      <td>1</td>\n",
       "      <td>1</td>\n",
       "      <td>1</td>\n",
       "      <td>1.0</td>\n",
       "      <td>0</td>\n",
       "      <td>...</td>\n",
       "      <td>81</td>\n",
       "      <td>289</td>\n",
       "      <td>16</td>\n",
       "      <td>121</td>\n",
       "      <td>4</td>\n",
       "      <td>1.777778</td>\n",
       "      <td>1.0</td>\n",
       "      <td>121.0</td>\n",
       "      <td>289</td>\n",
       "      <td>4</td>\n",
       "    </tr>\n",
       "    <tr>\n",
       "      <th>4</th>\n",
       "      <td>ID_d56d6f5f5</td>\n",
       "      <td>180000.0</td>\n",
       "      <td>0</td>\n",
       "      <td>5</td>\n",
       "      <td>0</td>\n",
       "      <td>1</td>\n",
       "      <td>1</td>\n",
       "      <td>1</td>\n",
       "      <td>1.0</td>\n",
       "      <td>0</td>\n",
       "      <td>...</td>\n",
       "      <td>121</td>\n",
       "      <td>1369</td>\n",
       "      <td>16</td>\n",
       "      <td>121</td>\n",
       "      <td>4</td>\n",
       "      <td>1.777778</td>\n",
       "      <td>1.0</td>\n",
       "      <td>121.0</td>\n",
       "      <td>1369</td>\n",
       "      <td>4</td>\n",
       "    </tr>\n",
       "  </tbody>\n",
       "</table>\n",
       "<p>5 rows × 143 columns</p>\n",
       "</div>"
      ],
      "text/plain": [
       "             Id      v2a1  hacdor  rooms  hacapo  v14a  refrig  v18q  v18q1  \\\n",
       "0  ID_279628684  190000.0       0      3       0     1       1     0    NaN   \n",
       "1  ID_f29eb3ddd  135000.0       0      4       0     1       1     1    1.0   \n",
       "2  ID_68de51c94       NaN       0      8       0     1       1     0    NaN   \n",
       "3  ID_d671db89c  180000.0       0      5       0     1       1     1    1.0   \n",
       "4  ID_d56d6f5f5  180000.0       0      5       0     1       1     1    1.0   \n",
       "\n",
       "   r4h1   ...    SQBescolari  SQBage  SQBhogar_total  SQBedjefe  SQBhogar_nin  \\\n",
       "0     0   ...            100    1849               1        100             0   \n",
       "1     0   ...            144    4489               1        144             0   \n",
       "2     0   ...            121    8464               1          0             0   \n",
       "3     0   ...             81     289              16        121             4   \n",
       "4     0   ...            121    1369              16        121             4   \n",
       "\n",
       "   SQBovercrowding  SQBdependency  SQBmeaned  agesq  Target  \n",
       "0         1.000000            0.0      100.0   1849       4  \n",
       "1         1.000000           64.0      144.0   4489       4  \n",
       "2         0.250000           64.0      121.0   8464       4  \n",
       "3         1.777778            1.0      121.0    289       4  \n",
       "4         1.777778            1.0      121.0   1369       4  \n",
       "\n",
       "[5 rows x 143 columns]"
      ]
     },
     "execution_count": 6,
     "metadata": {},
     "output_type": "execute_result"
    }
   ],
   "source": [
    "#look at data\n",
    "train.head()"
   ]
  },
  {
   "cell_type": "markdown",
   "metadata": {},
   "source": [
    "## 1) Object Data"
   ]
  },
  {
   "cell_type": "code",
   "execution_count": 7,
   "metadata": {},
   "outputs": [
    {
     "name": "stdout",
     "output_type": "stream",
     "text": [
      "<class 'pandas.core.frame.DataFrame'>\n",
      "RangeIndex: 9557 entries, 0 to 9556\n",
      "Columns: 143 entries, Id to Target\n",
      "dtypes: float64(8), int64(130), object(5)\n",
      "memory usage: 10.4+ MB\n"
     ]
    }
   ],
   "source": [
    "#look to see what type of data we have\n",
    "train.info()"
   ]
  },
  {
   "cell_type": "markdown",
   "metadata": {},
   "source": [
    "In looking at the types of data we have I noticed that we have 5 features that are classified as objects. This will cause a problem because they won't work well with our models. Let's go ahead and see what is included in this information to see if we can make it easier to work with."
   ]
  },
  {
   "cell_type": "code",
   "execution_count": 8,
   "metadata": {},
   "outputs": [
    {
     "data": {
      "text/html": [
       "<div>\n",
       "<style scoped>\n",
       "    .dataframe tbody tr th:only-of-type {\n",
       "        vertical-align: middle;\n",
       "    }\n",
       "\n",
       "    .dataframe tbody tr th {\n",
       "        vertical-align: top;\n",
       "    }\n",
       "\n",
       "    .dataframe thead th {\n",
       "        text-align: right;\n",
       "    }\n",
       "</style>\n",
       "<table border=\"1\" class=\"dataframe\">\n",
       "  <thead>\n",
       "    <tr style=\"text-align: right;\">\n",
       "      <th></th>\n",
       "      <th>Id</th>\n",
       "      <th>idhogar</th>\n",
       "      <th>dependency</th>\n",
       "      <th>edjefe</th>\n",
       "      <th>edjefa</th>\n",
       "    </tr>\n",
       "  </thead>\n",
       "  <tbody>\n",
       "    <tr>\n",
       "      <th>0</th>\n",
       "      <td>ID_279628684</td>\n",
       "      <td>21eb7fcc1</td>\n",
       "      <td>no</td>\n",
       "      <td>10</td>\n",
       "      <td>no</td>\n",
       "    </tr>\n",
       "    <tr>\n",
       "      <th>1</th>\n",
       "      <td>ID_f29eb3ddd</td>\n",
       "      <td>0e5d7a658</td>\n",
       "      <td>8</td>\n",
       "      <td>12</td>\n",
       "      <td>no</td>\n",
       "    </tr>\n",
       "    <tr>\n",
       "      <th>2</th>\n",
       "      <td>ID_68de51c94</td>\n",
       "      <td>2c7317ea8</td>\n",
       "      <td>8</td>\n",
       "      <td>no</td>\n",
       "      <td>11</td>\n",
       "    </tr>\n",
       "    <tr>\n",
       "      <th>3</th>\n",
       "      <td>ID_d671db89c</td>\n",
       "      <td>2b58d945f</td>\n",
       "      <td>yes</td>\n",
       "      <td>11</td>\n",
       "      <td>no</td>\n",
       "    </tr>\n",
       "    <tr>\n",
       "      <th>4</th>\n",
       "      <td>ID_d56d6f5f5</td>\n",
       "      <td>2b58d945f</td>\n",
       "      <td>yes</td>\n",
       "      <td>11</td>\n",
       "      <td>no</td>\n",
       "    </tr>\n",
       "  </tbody>\n",
       "</table>\n",
       "</div>"
      ],
      "text/plain": [
       "             Id    idhogar dependency edjefe edjefa\n",
       "0  ID_279628684  21eb7fcc1         no     10     no\n",
       "1  ID_f29eb3ddd  0e5d7a658          8     12     no\n",
       "2  ID_68de51c94  2c7317ea8          8     no     11\n",
       "3  ID_d671db89c  2b58d945f        yes     11     no\n",
       "4  ID_d56d6f5f5  2b58d945f        yes     11     no"
      ]
     },
     "execution_count": 8,
     "metadata": {},
     "output_type": "execute_result"
    }
   ],
   "source": [
    "#look at our object data\n",
    "train.select_dtypes('object').head()"
   ]
  },
  {
   "cell_type": "markdown",
   "metadata": {},
   "source": [
    "The data description in the Kaggle documents helps us to better understand what each of these variables mean. Their definitions are listed below. <br>\n",
    "\n",
    "Id = a unique identifier for each row <br>\n",
    "\n",
    "idhogar = this is a unique identifier for each household <br>\n",
    "\n",
    "dependency = Dependency rate, calculated = (number of members of the household younger than 19 or older than 64)/(number of member of household between 19 and 64) <br>\n",
    "\n",
    "edjefe = years of education of male head of household, based on the interaction of escolari (years of education), head of household and gender, yes=1 and no=0 <br>\n",
    "\n",
    "edjefa = years of education of female head of household, based on the interaction of escolari (years of education), head of household and gender, yes=1 and no=0 <br>"
   ]
  },
  {
   "cell_type": "markdown",
   "metadata": {},
   "source": [
    "We will end up dropping both our \"Id\" and \"idhogar\" features, but we will come back to that later. Let's first look at \"dependency\"."
   ]
  },
  {
   "cell_type": "code",
   "execution_count": 9,
   "metadata": {},
   "outputs": [
    {
     "data": {
      "text/plain": [
       "yes          2192\n",
       "no           1747\n",
       ".5           1497\n",
       "2             730\n",
       "1.5           713\n",
       ".33333334     598\n",
       ".66666669     487\n",
       "8             378\n",
       ".25           260\n",
       "3             236\n",
       "4             100\n",
       ".75            98\n",
       ".2             90\n",
       "1.3333334      84\n",
       ".40000001      84\n",
       "2.5            77\n",
       "5              24\n",
       "3.5            18\n",
       "1.25           18\n",
       ".80000001      18\n",
       "2.25           13\n",
       ".71428573      12\n",
       "1.2            11\n",
       "1.75           11\n",
       ".22222222      11\n",
       ".83333331      11\n",
       ".2857143        9\n",
       "1.6666666       8\n",
       ".60000002       8\n",
       ".16666667       7\n",
       "6               7\n",
       "Name: dependency, dtype: int64"
      ]
     },
     "execution_count": 9,
     "metadata": {},
     "output_type": "execute_result"
    }
   ],
   "source": [
    "#determine value counts for dependency\n",
    "train['dependency'].value_counts()"
   ]
  },
  {
   "cell_type": "markdown",
   "metadata": {},
   "source": [
    "Looking at it we can see that the only two objects are \"yes\" and \"no\" and that they consume a majority of the data for this variable. Although the description for this particular variable does not say that yes = 1 and no = 0 we can assume that this is the case for this feature. Looking at the value counts we notice that there are no \"1's\" or \"0's\" which makes our assumption more plausible. "
   ]
  },
  {
   "cell_type": "markdown",
   "metadata": {},
   "source": [
    "Let's go ahead and see if the same is true for our remaining two object features."
   ]
  },
  {
   "cell_type": "code",
   "execution_count": 10,
   "metadata": {},
   "outputs": [
    {
     "data": {
      "text/plain": [
       "array(['10', '12', 'no', '11', '9', '15', '4', '6', '8', '17', '7', '16',\n",
       "       '14', '5', '21', '2', '19', 'yes', '3', '18', '13', '20'],\n",
       "      dtype=object)"
      ]
     },
     "execution_count": 10,
     "metadata": {},
     "output_type": "execute_result"
    }
   ],
   "source": [
    "#determine unique values for edjefe\n",
    "train['edjefe'].unique()"
   ]
  },
  {
   "cell_type": "code",
   "execution_count": 11,
   "metadata": {},
   "outputs": [
    {
     "data": {
      "text/plain": [
       "array(['no', '11', '4', '10', '9', '15', '7', '14', '13', '8', '17', '6',\n",
       "       '5', '3', '16', '19', 'yes', '21', '12', '2', '20', '18'],\n",
       "      dtype=object)"
      ]
     },
     "execution_count": 11,
     "metadata": {},
     "output_type": "execute_result"
    }
   ],
   "source": [
    "#determine unique values for edjefa\n",
    "train['edjefa'].unique()"
   ]
  },
  {
   "cell_type": "markdown",
   "metadata": {},
   "source": [
    "We can now see that for all three of these variables that we need to convert yes to 1 and no to 0. Let's go ahead and do that now."
   ]
  },
  {
   "cell_type": "code",
   "execution_count": 12,
   "metadata": {},
   "outputs": [],
   "source": [
    "#change to float and convert yes to 1 and no to 0\n",
    "mapping = {\"yes\": 1, \"no\": 0}\n",
    "train['dependency'] = train['dependency'].replace(mapping).astype(np.float64)\n",
    "train['edjefa'] = train['edjefa'].replace(mapping).astype(np.float64)\n",
    "train['edjefe'] = train['edjefe'].replace(mapping).astype(np.float64)"
   ]
  },
  {
   "cell_type": "code",
   "execution_count": 13,
   "metadata": {},
   "outputs": [
    {
     "name": "stdout",
     "output_type": "stream",
     "text": [
      "<class 'pandas.core.frame.DataFrame'>\n",
      "RangeIndex: 9557 entries, 0 to 9556\n",
      "Data columns (total 3 columns):\n",
      "dependency    9557 non-null float64\n",
      "edjefa        9557 non-null float64\n",
      "edjefe        9557 non-null float64\n",
      "dtypes: float64(3)\n",
      "memory usage: 224.1 KB\n"
     ]
    }
   ],
   "source": [
    "#make sure that we changed what we wanted\n",
    "train[['dependency', 'edjefa', 'edjefe']].info()"
   ]
  },
  {
   "cell_type": "markdown",
   "metadata": {},
   "source": [
    "Awesome! We have now converted our objects to floats and fixed our data so that it will be easier to work with."
   ]
  },
  {
   "cell_type": "markdown",
   "metadata": {},
   "source": [
    "## 2) Missing variables"
   ]
  },
  {
   "cell_type": "markdown",
   "metadata": {},
   "source": [
    "We now want to look and see if we have any missing data that we need to fix. Let's start by seeing what variables actually have missing information."
   ]
  },
  {
   "cell_type": "code",
   "execution_count": 14,
   "metadata": {},
   "outputs": [
    {
     "data": {
      "text/plain": [
       "rez_esc           7928\n",
       "v18q1             7342\n",
       "v2a1              6860\n",
       "meaneduc             5\n",
       "SQBmeaned            5\n",
       "techozinc            0\n",
       "techoentrepiso       0\n",
       "dtype: int64"
      ]
     },
     "execution_count": 14,
     "metadata": {},
     "output_type": "execute_result"
    }
   ],
   "source": [
    "#see missing data\n",
    "train.isnull().sum().sort_values(ascending=False)[:7]"
   ]
  },
  {
   "cell_type": "markdown",
   "metadata": {},
   "source": [
    "It looks like we have 5 variables with missing data. Kaggle's definition for each variable is listed below. <br>\n",
    "\n",
    "rez_esc = Years behind in school <br>\n",
    "\n",
    "v18q1 = Number of tablets household owns <br>\n",
    "\n",
    "v2a1 = Monthly rent payment <br>\n",
    "\n",
    "meaneduc = Average years of education for adults (18+) <br>\n",
    "\n",
    "SQBmeaned = Square of the mean years of education of adults (>=18) in the household <br>"
   ]
  },
  {
   "cell_type": "markdown",
   "metadata": {},
   "source": [
    "Let's begin at looking at our \"rez_esc\" variable. In looking through the variable description we learn that this variable only identifies people behind in school that are in school. This would mean that missing variables simply mean that they are not in school and are therefor not behind in school. Let's go ahead and set this value to 0 for purposes of our predictions."
   ]
  },
  {
   "cell_type": "code",
   "execution_count": 15,
   "metadata": {},
   "outputs": [],
   "source": [
    "#fill in missing rez_esc with 0\n",
    "train.loc[(train['rez_esc'].isnull()), 'rez_esc'] = 0"
   ]
  },
  {
   "cell_type": "markdown",
   "metadata": {},
   "source": [
    "Now that we have that taken care of, let's look at \"v18q1\". This variable measures the number of tablets in the household. It is important to notice that another question on the survey asks if they have a tablet or not. This will help us when filling in the missing values."
   ]
  },
  {
   "cell_type": "code",
   "execution_count": 16,
   "metadata": {},
   "outputs": [
    {
     "data": {
      "text/plain": [
       "array([nan,  1.,  2.,  3.,  4.,  5.,  6.])"
      ]
     },
     "execution_count": 16,
     "metadata": {},
     "output_type": "execute_result"
    }
   ],
   "source": [
    "#look at unique tablet values\n",
    "train['v18q1'].unique()"
   ]
  },
  {
   "cell_type": "markdown",
   "metadata": {},
   "source": [
    "It looks like zero isn't a value in this data entry so it could be that households with 0 tablets are marked nan. Let's go ahead and change it to zero because these values align with the variable that asks if they have a tablet or not.  "
   ]
  },
  {
   "cell_type": "code",
   "execution_count": 17,
   "metadata": {},
   "outputs": [],
   "source": [
    "#fill in missing tablet values with 0\n",
    "train.loc[(train['v18q1'].isnull()), 'v18q1'] = 0"
   ]
  },
  {
   "cell_type": "markdown",
   "metadata": {},
   "source": [
    "Let's move on to look at \"v2a1\". This measures the amount the household pays for monthly rent."
   ]
  },
  {
   "cell_type": "code",
   "execution_count": 18,
   "metadata": {},
   "outputs": [
    {
     "data": {
      "text/plain": [
       "array([ 190000.,  135000.,      nan,  180000.,  130000.,  100000.,\n",
       "         90000.,  215000.,  150000.,  120000.,   80000.,  168000.,\n",
       "         40000.,  155000.,  200000.,  350000.,  270000.,  300000.,\n",
       "        250000.,  260000.,  564834.,  175000.,   25310.,  400000.,\n",
       "        450000.,  399378.,  119813.,  125518.,  125000.,   60000.,\n",
       "         35000.,  160000.,  170000.,  500000.,  230000.,  185000.,\n",
       "        220000.,  570540.,  342324.,       0.,  127000.,   52000.,\n",
       "        240000.,  278000.,   70000.,  110000.,  100297.,  210000.,\n",
       "        770229.,  285270.,  145000.,   96000.,  542013.,   65000.,\n",
       "         85000.,  104000.,  275000.,  140000.,  280000.,  105661.,\n",
       "         20000.,   16000.,   55000.,   30000.,  283000.,  245000.,\n",
       "        191500.,  510000.,   36350.,   89000.,  600000.,   75000.,\n",
       "         50000.,   84529.,  550000.,  132000.,  470000.,   27000.,\n",
       "        176000.,  205000.,  380000.,  855810.,  427905.,  290975.,\n",
       "        188000.,  118097.,  360000.,  325000., 1000000.,  700000.,\n",
       "        288750.,  219087.,   95000.,   93000.,  800000.,  456432.,\n",
       "        142635.,   97000.,   51000.,   62539.,   68000.,  225000.,\n",
       "        234000.,  105000.,  432000.,   45000.,  357000.,  115000.,\n",
       "        253000.,  525000.,  684648.,   72000.,  480000.,   94000.,\n",
       "         78039.,   72554.,  159751., 2353477.,   14000.,   13000.,\n",
       "         78000.,  540000.,  165000.,  268153.,  420000.,   92000.,\n",
       "         25000.,   52831.,  328000.,   28000.,  285000.,   83333.,\n",
       "         73000.,   23000.,  178000.,  172000.,   15000.,  171162.,\n",
       "        106000.,  620000.,   26000.,  249896.,  107000.,  108000.,\n",
       "         42500.,  169000.,   32600.,   12000.,   58731.,  320000.,\n",
       "         17000.,   77000.,  102000.,  294000.,   32000.,   44000.,\n",
       "        163000.,   46500.])"
      ]
     },
     "execution_count": 18,
     "metadata": {},
     "output_type": "execute_result"
    }
   ],
   "source": [
    "#look at unique tablet values\n",
    "train['v2a1'].unique()"
   ]
  },
  {
   "cell_type": "markdown",
   "metadata": {},
   "source": [
    "In looking at this information and the descriptions that Kaggle gave us we notice that there are many people who own their own houses and would not have a monthly payment. Let's set these missing values to zero too."
   ]
  },
  {
   "cell_type": "code",
   "execution_count": 19,
   "metadata": {},
   "outputs": [],
   "source": [
    "#fill in missing rent values with 0\n",
    "train.loc[(train['v2a1'].isnull()), 'v2a1'] = 0"
   ]
  },
  {
   "cell_type": "markdown",
   "metadata": {},
   "source": [
    "Since we don't have very many missing variables from \"meaneduc\" and \"SQBmeaned\" and they seem to be related to each other let's just drop these observations."
   ]
  },
  {
   "cell_type": "code",
   "execution_count": 20,
   "metadata": {},
   "outputs": [],
   "source": [
    "train = train.drop(['meaneduc', 'SQBmeaned'], axis = 1)"
   ]
  },
  {
   "cell_type": "markdown",
   "metadata": {},
   "source": [
    "Now let's go ahead and drop our Id variables to get ready to feed our data into our models."
   ]
  },
  {
   "cell_type": "code",
   "execution_count": 21,
   "metadata": {},
   "outputs": [],
   "source": [
    "#drop Id variables\n",
    "train = train.drop('Id', axis=1)\n",
    "train = train.drop('idhogar', axis=1)"
   ]
  },
  {
   "cell_type": "markdown",
   "metadata": {},
   "source": [
    "## Visualize Data"
   ]
  },
  {
   "cell_type": "markdown",
   "metadata": {},
   "source": [
    "Now that we have cleaned our data let's look to see what it looks like."
   ]
  },
  {
   "cell_type": "code",
   "execution_count": 22,
   "metadata": {},
   "outputs": [
    {
     "data": {
      "text/plain": [
       "Text(68.0938,0.5,'Highest Correlated Variables with Poverty Levels')"
      ]
     },
     "execution_count": 22,
     "metadata": {},
     "output_type": "execute_result"
    },
    {
     "data": {
      "image/png": "[encoded data removed]",
      "text/plain": [
       "<Figure size 720x720 with 2 Axes>"
      ]
     },
     "metadata": {},
     "output_type": "display_data"
    }
   ],
   "source": [
    "# most correlated features\n",
    "corrmat = train.corr()\n",
    "top_corr_features = corrmat.index[abs(corrmat[\"Target\"])>0.25]\n",
    "plt.figure(figsize=(10,10))\n",
    "g = sns.heatmap(train[top_corr_features].corr(),annot=True,cmap=\"RdYlGn\")\n",
    "plt.title('Correlation Coefficients')\n",
    "plt.xlabel('Highest Correlated Variables with Poverty Levels')\n",
    "plt.ylabel('Highest Correlated Variables with Poverty Levels')"
   ]
  },
  {
   "cell_type": "markdown",
   "metadata": {},
   "source": [
    "This graph helps us see what has the strongest relationship with Poverty Levels. Dark green or red squares are the variables that most correlate with our target and could potentially be the most predictive. Listed below are the most correlated variables, their correlation coefficient, and what they mean. Some of these variables are the transformed square root of the variable and I won't include these in this list. <br>\n",
    "\n",
    "hogar_nin (-0.33) = Number of children 0 to 19 in household <br>\n",
    "\n",
    "r4t1 (-0.32) = Persons younger than 12 years of age <br>\n",
    "\n",
    "escolari (0.3) = Years of schooling <br>\n",
    "\n",
    "overcrowding (-0.29) = Number persons per room <br>\n",
    "\n",
    "epared3 (0.29) = Whether or not walls are good <br>\n",
    "\n",
    "This helps to give us an idea of what features are most important in our data and better understand what is impacting poverty levels. We can see that more young children and having more people per room inside the house describe housholds with increased poverty, while households with more education and higher quality walls describe households with less poverty."
   ]
  },
  {
   "cell_type": "markdown",
   "metadata": {},
   "source": [
    "We'll also need to standardize our data before we begin running our models."
   ]
  },
  {
   "cell_type": "code",
   "execution_count": 23,
   "metadata": {},
   "outputs": [],
   "source": [
    "#Scale data\n",
    "scaler = StandardScaler()\n",
    "scaler.fit(train)\n",
    "scaled_train = scaler.transform(train)"
   ]
  },
  {
   "cell_type": "markdown",
   "metadata": {},
   "source": [
    "## 4) Models"
   ]
  },
  {
   "cell_type": "markdown",
   "metadata": {},
   "source": [
    "To begin modelling we will split our data into a training and test data set. This will give us something to train our model on and something to test it on."
   ]
  },
  {
   "cell_type": "code",
   "execution_count": 24,
   "metadata": {},
   "outputs": [],
   "source": [
    "#split model\n",
    "X_train, X_test, y_train, y_test = train_test_split(scaled_train, target, test_size=.33, random_state=42)"
   ]
  },
  {
   "cell_type": "markdown",
   "metadata": {},
   "source": [
    "Now that we have our training and test data set let's try a few different models. The first one we will try is a logistic regression. We will run it through a basic logistical regression and report our f1 scores for the training and testing data set."
   ]
  },
  {
   "cell_type": "code",
   "execution_count": 25,
   "metadata": {},
   "outputs": [],
   "source": [
    "#logistic regression\n",
    "logreg = linear_model.LogisticRegression()\n",
    "y_predlog = logreg.fit(X_train, y_train).predict(X_test)"
   ]
  },
  {
   "cell_type": "code",
   "execution_count": 43,
   "metadata": {},
   "outputs": [
    {
     "name": "stdout",
     "output_type": "stream",
     "text": [
      "0.9096266393342858\n",
      "0.8644870011943628\n"
     ]
    }
   ],
   "source": [
    "#f1 score for logistic regression\n",
    "logreg_f1_train = f1_score(list(y_train), list(logreg.predict(X_train)), average='macro')\n",
    "logreg_f1_test = f1_score(list(y_test), list(logreg.predict(X_test)), average='macro')\n",
    "print(logreg_f1_train)\n",
    "print(logreg_f1_test)"
   ]
  },
  {
   "cell_type": "markdown",
   "metadata": {},
   "source": [
    "Not bad! We see that our testing data set had an f1 of 86%. This means that when taking the mean of both precision and recall results for our testing data set we report 86%. Because these numbers aren't too far off we aren't too concerned with overfitting."
   ]
  },
  {
   "cell_type": "markdown",
   "metadata": {},
   "source": [
    "Let's go ahead and now try Naive Bayes using a Gaussian distribution and random forest and see what our results are."
   ]
  },
  {
   "cell_type": "code",
   "execution_count": 45,
   "metadata": {},
   "outputs": [],
   "source": [
    "#Gaussian \n",
    "gnb = GaussianNB()\n",
    "y_pred_gnb = gnb.fit(X_train, y_train).predict(X_test)"
   ]
  },
  {
   "cell_type": "code",
   "execution_count": 37,
   "metadata": {},
   "outputs": [
    {
     "name": "stdout",
     "output_type": "stream",
     "text": [
      "1.0\n",
      "0.9979701923058106\n"
     ]
    }
   ],
   "source": [
    "#f1 score for Gaussian\n",
    "gnb_f1_train = f1_score(list(y_train), list(gnb.predict(X_train)), average='macro')\n",
    "gnb_f1_test = f1_score(list(y_test), list(gnb.predict(X_test)), average='macro')\n",
    "print(gnb_f1_train)\n",
    "print(gnb_f1_test)"
   ]
  },
  {
   "cell_type": "code",
   "execution_count": 29,
   "metadata": {},
   "outputs": [],
   "source": [
    "#random forest\n",
    "rfc = RandomForestClassifier(random_state=42, n_jobs = -1)\n",
    "param_grid = {\"n_estimators\":[90, 105, 110, 120, 140], \"max_features\": ['auto','log2']}\n",
    "rfc_gridsearch = GridSearchCV(rfc,param_grid=param_grid ,cv=5)\n",
    "rfc_gridsearch.fit(X_train,y_train)\n",
    "y_predrfc = rfc.fit(X_train, y_train).predict(X_test)"
   ]
  },
  {
   "cell_type": "code",
   "execution_count": 30,
   "metadata": {},
   "outputs": [
    {
     "name": "stdout",
     "output_type": "stream",
     "text": [
      "0.998156217936786\n",
      "0.9320941594307378\n"
     ]
    }
   ],
   "source": [
    "#f1 score for random forest\n",
    "rfc_f1_train = f1_score(list(y_train), list(rfc.predict(X_train)), average='macro')\n",
    "rfc_f1 = f1_score(list(y_test), list(rfc.predict(X_test)), average='macro')\n",
    "print(rfc_f1_train)\n",
    "print(rfc_f1)"
   ]
  },
  {
   "cell_type": "markdown",
   "metadata": {},
   "source": [
    "In looking at our results we see that it appears that Naive Bayes performed better. It was 100% accurate on the training data set and 99.8% accurate on the test data set. Let's go ahead and evaluate this model and see what conclusions we can draw from it."
   ]
  },
  {
   "cell_type": "markdown",
   "metadata": {},
   "source": [
    "## 5) Analyze model"
   ]
  },
  {
   "cell_type": "markdown",
   "metadata": {},
   "source": [
    "Let's begin by using a confusion matrix to determine the number of data points our Naive Bayes model got right."
   ]
  },
  {
   "cell_type": "code",
   "execution_count": 47,
   "metadata": {},
   "outputs": [
    {
     "data": {
      "text/plain": [
       "array([[ 262,    2,    0,    0],\n",
       "       [   0,  524,    0,    0],\n",
       "       [   0,    0,  422,    0],\n",
       "       [   0,    2,    0, 1942]])"
      ]
     },
     "execution_count": 47,
     "metadata": {},
     "output_type": "execute_result"
    }
   ],
   "source": [
    "#confusion matrix\n",
    "confusion_matrix(y_test, y_pred_gnb)"
   ]
  },
  {
   "cell_type": "markdown",
   "metadata": {},
   "source": [
    "The numbers on the diagonal are the ones that we predicted correctly and the off diagonals are the ones we predicted incorrectly. It looks like we did pretty good and weren't off very often. Also we were only off on one of our columns meaning that our wrong predictions were only located in one poverty category."
   ]
  },
  {
   "cell_type": "markdown",
   "metadata": {},
   "source": [
    "As we can see that although it isn't perfect our Naive Bayes model did a pretty good job at predicting our poverty levels. If I were entering this into a competition I would then predict the results on the provided test data set and submit them, but all we have to go off of is our f1 scores."
   ]
  },
  {
   "cell_type": "markdown",
   "metadata": {},
   "source": [
    "The end."
   ]
  }
 ],
 "metadata": {
  "kernelspec": {
   "display_name": "Python 3",
   "language": "python",
   "name": "python3"
  },
  "language_info": {
   "codemirror_mode": {
    "name": "ipython",
    "version": 3
   },
   "file_extension": ".py",
   "mimetype": "text/x-python",
   "name": "python",
   "nbconvert_exporter": "python",
   "pygments_lexer": "ipython3",
   "version": "3.6.5"
  }
 },
 "nbformat": 4,
 "nbformat_minor": 2
}
