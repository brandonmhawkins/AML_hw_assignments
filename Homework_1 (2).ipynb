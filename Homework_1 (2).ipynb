{
 "cells": [
  {
   "cell_type": "markdown",
   "metadata": {},
   "source": [
    "# Homework 1"
   ]
  },
  {
   "cell_type": "markdown",
   "metadata": {},
   "source": [
    "Brandon Hawkins"
   ]
  },
  {
   "cell_type": "markdown",
   "metadata": {},
   "source": [
    "# Dataset 1: CSV\n",
    "\n",
    "# Downloading Data\n",
    "    \n",
    "    The first data set I decided to use is a CSV file from Kaggle. The data shows how different bottles of wine were rated by wine testers. "
   ]
  },
  {
   "cell_type": "code",
   "execution_count": 1,
   "metadata": {},
   "outputs": [],
   "source": [
    "import pandas as pd\n",
    "import numpy as np\n",
    "import matplotlib.pyplot as plt\n",
    "import seaborn as sns\n",
    "%matplotlib inline"
   ]
  },
  {
   "cell_type": "code",
   "execution_count": 2,
   "metadata": {},
   "outputs": [],
   "source": [
    "#retrieving data set\n",
    "wine_stats = pd.read_csv(\"/Users/brandonhawkins/Downloads/winehw1aml.zip\") "
   ]
  },
  {
   "cell_type": "markdown",
   "metadata": {},
   "source": [
    "# Clean Data\n",
    "\n",
    "I will now look at the first five data entries to see what the data looks like and see all of the variables included in the data."
   ]
  },
  {
   "cell_type": "code",
   "execution_count": 3,
   "metadata": {},
   "outputs": [
    {
     "data": {
      "text/html": [
       "<div>\n",
       "<style scoped>\n",
       "    .dataframe tbody tr th:only-of-type {\n",
       "        vertical-align: middle;\n",
       "    }\n",
       "\n",
       "    .dataframe tbody tr th {\n",
       "        vertical-align: top;\n",
       "    }\n",
       "\n",
       "    .dataframe thead th {\n",
       "        text-align: right;\n",
       "    }\n",
       "</style>\n",
       "<table border=\"1\" class=\"dataframe\">\n",
       "  <thead>\n",
       "    <tr style=\"text-align: right;\">\n",
       "      <th></th>\n",
       "      <th>Unnamed: 0</th>\n",
       "      <th>country</th>\n",
       "      <th>description</th>\n",
       "      <th>designation</th>\n",
       "      <th>points</th>\n",
       "      <th>price</th>\n",
       "      <th>province</th>\n",
       "      <th>region_1</th>\n",
       "      <th>region_2</th>\n",
       "      <th>taster_name</th>\n",
       "      <th>taster_twitter_handle</th>\n",
       "      <th>title</th>\n",
       "      <th>variety</th>\n",
       "      <th>winery</th>\n",
       "    </tr>\n",
       "  </thead>\n",
       "  <tbody>\n",
       "    <tr>\n",
       "      <th>0</th>\n",
       "      <td>0</td>\n",
       "      <td>Italy</td>\n",
       "      <td>Aromas include tropical fruit, broom, brimston...</td>\n",
       "      <td>Vulkà Bianco</td>\n",
       "      <td>87</td>\n",
       "      <td>NaN</td>\n",
       "      <td>Sicily &amp; Sardinia</td>\n",
       "      <td>Etna</td>\n",
       "      <td>NaN</td>\n",
       "      <td>Kerin O’Keefe</td>\n",
       "      <td>@kerinokeefe</td>\n",
       "      <td>Nicosia 2013 Vulkà Bianco  (Etna)</td>\n",
       "      <td>White Blend</td>\n",
       "      <td>Nicosia</td>\n",
       "    </tr>\n",
       "    <tr>\n",
       "      <th>1</th>\n",
       "      <td>1</td>\n",
       "      <td>Portugal</td>\n",
       "      <td>This is ripe and fruity, a wine that is smooth...</td>\n",
       "      <td>Avidagos</td>\n",
       "      <td>87</td>\n",
       "      <td>15.0</td>\n",
       "      <td>Douro</td>\n",
       "      <td>NaN</td>\n",
       "      <td>NaN</td>\n",
       "      <td>Roger Voss</td>\n",
       "      <td>@vossroger</td>\n",
       "      <td>Quinta dos Avidagos 2011 Avidagos Red (Douro)</td>\n",
       "      <td>Portuguese Red</td>\n",
       "      <td>Quinta dos Avidagos</td>\n",
       "    </tr>\n",
       "    <tr>\n",
       "      <th>2</th>\n",
       "      <td>2</td>\n",
       "      <td>US</td>\n",
       "      <td>Tart and snappy, the flavors of lime flesh and...</td>\n",
       "      <td>NaN</td>\n",
       "      <td>87</td>\n",
       "      <td>14.0</td>\n",
       "      <td>Oregon</td>\n",
       "      <td>Willamette Valley</td>\n",
       "      <td>Willamette Valley</td>\n",
       "      <td>Paul Gregutt</td>\n",
       "      <td>@paulgwine</td>\n",
       "      <td>Rainstorm 2013 Pinot Gris (Willamette Valley)</td>\n",
       "      <td>Pinot Gris</td>\n",
       "      <td>Rainstorm</td>\n",
       "    </tr>\n",
       "    <tr>\n",
       "      <th>3</th>\n",
       "      <td>3</td>\n",
       "      <td>US</td>\n",
       "      <td>Pineapple rind, lemon pith and orange blossom ...</td>\n",
       "      <td>Reserve Late Harvest</td>\n",
       "      <td>87</td>\n",
       "      <td>13.0</td>\n",
       "      <td>Michigan</td>\n",
       "      <td>Lake Michigan Shore</td>\n",
       "      <td>NaN</td>\n",
       "      <td>Alexander Peartree</td>\n",
       "      <td>NaN</td>\n",
       "      <td>St. Julian 2013 Reserve Late Harvest Riesling ...</td>\n",
       "      <td>Riesling</td>\n",
       "      <td>St. Julian</td>\n",
       "    </tr>\n",
       "    <tr>\n",
       "      <th>4</th>\n",
       "      <td>4</td>\n",
       "      <td>US</td>\n",
       "      <td>Much like the regular bottling from 2012, this...</td>\n",
       "      <td>Vintner's Reserve Wild Child Block</td>\n",
       "      <td>87</td>\n",
       "      <td>65.0</td>\n",
       "      <td>Oregon</td>\n",
       "      <td>Willamette Valley</td>\n",
       "      <td>Willamette Valley</td>\n",
       "      <td>Paul Gregutt</td>\n",
       "      <td>@paulgwine</td>\n",
       "      <td>Sweet Cheeks 2012 Vintner's Reserve Wild Child...</td>\n",
       "      <td>Pinot Noir</td>\n",
       "      <td>Sweet Cheeks</td>\n",
       "    </tr>\n",
       "  </tbody>\n",
       "</table>\n",
       "</div>"
      ],
      "text/plain": [
       "   Unnamed: 0   country                                        description  \\\n",
       "0           0     Italy  Aromas include tropical fruit, broom, brimston...   \n",
       "1           1  Portugal  This is ripe and fruity, a wine that is smooth...   \n",
       "2           2        US  Tart and snappy, the flavors of lime flesh and...   \n",
       "3           3        US  Pineapple rind, lemon pith and orange blossom ...   \n",
       "4           4        US  Much like the regular bottling from 2012, this...   \n",
       "\n",
       "                          designation  points  price           province  \\\n",
       "0                        Vulkà Bianco      87    NaN  Sicily & Sardinia   \n",
       "1                            Avidagos      87   15.0              Douro   \n",
       "2                                 NaN      87   14.0             Oregon   \n",
       "3                Reserve Late Harvest      87   13.0           Michigan   \n",
       "4  Vintner's Reserve Wild Child Block      87   65.0             Oregon   \n",
       "\n",
       "              region_1           region_2         taster_name  \\\n",
       "0                 Etna                NaN       Kerin O’Keefe   \n",
       "1                  NaN                NaN          Roger Voss   \n",
       "2    Willamette Valley  Willamette Valley        Paul Gregutt   \n",
       "3  Lake Michigan Shore                NaN  Alexander Peartree   \n",
       "4    Willamette Valley  Willamette Valley        Paul Gregutt   \n",
       "\n",
       "  taster_twitter_handle                                              title  \\\n",
       "0          @kerinokeefe                  Nicosia 2013 Vulkà Bianco  (Etna)   \n",
       "1            @vossroger      Quinta dos Avidagos 2011 Avidagos Red (Douro)   \n",
       "2           @paulgwine       Rainstorm 2013 Pinot Gris (Willamette Valley)   \n",
       "3                   NaN  St. Julian 2013 Reserve Late Harvest Riesling ...   \n",
       "4           @paulgwine   Sweet Cheeks 2012 Vintner's Reserve Wild Child...   \n",
       "\n",
       "          variety               winery  \n",
       "0     White Blend              Nicosia  \n",
       "1  Portuguese Red  Quinta dos Avidagos  \n",
       "2      Pinot Gris            Rainstorm  \n",
       "3        Riesling           St. Julian  \n",
       "4      Pinot Noir         Sweet Cheeks  "
      ]
     },
     "execution_count": 3,
     "metadata": {},
     "output_type": "execute_result"
    }
   ],
   "source": [
    "#see first five data entries\n",
    "wine_stats.head(5)"
   ]
  },
  {
   "cell_type": "markdown",
   "metadata": {},
   "source": [
    "In looking at the data I am interested in understanding how the point value given to a bottle of wine effects the price of the wine. To make it easier to work with the data I will delete any unnecesary variables."
   ]
  },
  {
   "cell_type": "code",
   "execution_count": 4,
   "metadata": {},
   "outputs": [],
   "source": [
    "#drop variables\n",
    "wine_stats = wine_stats.drop('designation', axis=1)\n",
    "wine_stats = wine_stats.drop('province', axis=1)\n",
    "wine_stats = wine_stats.drop('region_1', axis=1)\n",
    "wine_stats = wine_stats.drop('region_2', axis=1)\n",
    "wine_stats = wine_stats.drop('taster_twitter_handle', axis=1)\n",
    "wine_stats = wine_stats.drop('title', axis=1)\n",
    "wine_stats = wine_stats.drop('Unnamed: 0', axis=1)"
   ]
  },
  {
   "cell_type": "markdown",
   "metadata": {},
   "source": [
    "I will now look at the data to see what is in the data set."
   ]
  },
  {
   "cell_type": "code",
   "execution_count": 5,
   "metadata": {},
   "outputs": [
    {
     "data": {
      "text/html": [
       "<div>\n",
       "<style scoped>\n",
       "    .dataframe tbody tr th:only-of-type {\n",
       "        vertical-align: middle;\n",
       "    }\n",
       "\n",
       "    .dataframe tbody tr th {\n",
       "        vertical-align: top;\n",
       "    }\n",
       "\n",
       "    .dataframe thead th {\n",
       "        text-align: right;\n",
       "    }\n",
       "</style>\n",
       "<table border=\"1\" class=\"dataframe\">\n",
       "  <thead>\n",
       "    <tr style=\"text-align: right;\">\n",
       "      <th></th>\n",
       "      <th>country</th>\n",
       "      <th>description</th>\n",
       "      <th>points</th>\n",
       "      <th>price</th>\n",
       "      <th>taster_name</th>\n",
       "      <th>variety</th>\n",
       "      <th>winery</th>\n",
       "    </tr>\n",
       "  </thead>\n",
       "  <tbody>\n",
       "    <tr>\n",
       "      <th>0</th>\n",
       "      <td>Italy</td>\n",
       "      <td>Aromas include tropical fruit, broom, brimston...</td>\n",
       "      <td>87</td>\n",
       "      <td>NaN</td>\n",
       "      <td>Kerin O’Keefe</td>\n",
       "      <td>White Blend</td>\n",
       "      <td>Nicosia</td>\n",
       "    </tr>\n",
       "    <tr>\n",
       "      <th>1</th>\n",
       "      <td>Portugal</td>\n",
       "      <td>This is ripe and fruity, a wine that is smooth...</td>\n",
       "      <td>87</td>\n",
       "      <td>15.0</td>\n",
       "      <td>Roger Voss</td>\n",
       "      <td>Portuguese Red</td>\n",
       "      <td>Quinta dos Avidagos</td>\n",
       "    </tr>\n",
       "    <tr>\n",
       "      <th>2</th>\n",
       "      <td>US</td>\n",
       "      <td>Tart and snappy, the flavors of lime flesh and...</td>\n",
       "      <td>87</td>\n",
       "      <td>14.0</td>\n",
       "      <td>Paul Gregutt</td>\n",
       "      <td>Pinot Gris</td>\n",
       "      <td>Rainstorm</td>\n",
       "    </tr>\n",
       "    <tr>\n",
       "      <th>3</th>\n",
       "      <td>US</td>\n",
       "      <td>Pineapple rind, lemon pith and orange blossom ...</td>\n",
       "      <td>87</td>\n",
       "      <td>13.0</td>\n",
       "      <td>Alexander Peartree</td>\n",
       "      <td>Riesling</td>\n",
       "      <td>St. Julian</td>\n",
       "    </tr>\n",
       "    <tr>\n",
       "      <th>4</th>\n",
       "      <td>US</td>\n",
       "      <td>Much like the regular bottling from 2012, this...</td>\n",
       "      <td>87</td>\n",
       "      <td>65.0</td>\n",
       "      <td>Paul Gregutt</td>\n",
       "      <td>Pinot Noir</td>\n",
       "      <td>Sweet Cheeks</td>\n",
       "    </tr>\n",
       "  </tbody>\n",
       "</table>\n",
       "</div>"
      ],
      "text/plain": [
       "    country                                        description  points  price  \\\n",
       "0     Italy  Aromas include tropical fruit, broom, brimston...      87    NaN   \n",
       "1  Portugal  This is ripe and fruity, a wine that is smooth...      87   15.0   \n",
       "2        US  Tart and snappy, the flavors of lime flesh and...      87   14.0   \n",
       "3        US  Pineapple rind, lemon pith and orange blossom ...      87   13.0   \n",
       "4        US  Much like the regular bottling from 2012, this...      87   65.0   \n",
       "\n",
       "          taster_name         variety               winery  \n",
       "0       Kerin O’Keefe     White Blend              Nicosia  \n",
       "1          Roger Voss  Portuguese Red  Quinta dos Avidagos  \n",
       "2        Paul Gregutt      Pinot Gris            Rainstorm  \n",
       "3  Alexander Peartree        Riesling           St. Julian  \n",
       "4        Paul Gregutt      Pinot Noir         Sweet Cheeks  "
      ]
     },
     "execution_count": 5,
     "metadata": {},
     "output_type": "execute_result"
    }
   ],
   "source": [
    "#see data set\n",
    "wine_stats.head(5)"
   ]
  },
  {
   "cell_type": "markdown",
   "metadata": {},
   "source": [
    "I now want to see if there are other missing entries for other variables."
   ]
  },
  {
   "cell_type": "code",
   "execution_count": 6,
   "metadata": {},
   "outputs": [
    {
     "data": {
      "text/plain": [
       "country           63\n",
       "description        0\n",
       "points             0\n",
       "price           8996\n",
       "taster_name    26244\n",
       "variety            1\n",
       "winery             0\n",
       "dtype: int64"
      ]
     },
     "execution_count": 6,
     "metadata": {},
     "output_type": "execute_result"
    }
   ],
   "source": [
    "#see how many are missing\n",
    "wine_stats.isnull().sum()"
   ]
  },
  {
   "cell_type": "markdown",
   "metadata": {},
   "source": [
    "There is missing data for country, price, taster name, and one missing data point for wine variety. Since there is only one missing data point for variety, I will go ahead and just drop the data point. The best assumption I can make for prices is that bottles of wine that receiving higher scores (point values) are worth more. Due to this, I will fill in missing price data with the average from it's corresponding point score. The taster name is impossible to find any relationship that will make sense to fill in the missing data, so I will drop those observations. The country name corresponds to the winery so I will leave the country data as is and use the winery as an indicator of where the wine is from."
   ]
  },
  {
   "cell_type": "code",
   "execution_count": 7,
   "metadata": {},
   "outputs": [
    {
     "data": {
      "text/plain": [
       "points\n",
       "80      16.372152\n",
       "81      17.182353\n",
       "82      18.870767\n",
       "83      18.237353\n",
       "84      19.310215\n",
       "85      19.949562\n",
       "86      22.133759\n",
       "87      24.901884\n",
       "88      28.687523\n",
       "89      32.169640\n",
       "90      36.906622\n",
       "91      43.224252\n",
       "92      51.037763\n",
       "93      63.112216\n",
       "94      81.436938\n",
       "95     109.235420\n",
       "96     159.292531\n",
       "97     207.173913\n",
       "98     245.492754\n",
       "99     284.214286\n",
       "100    485.947368\n",
       "Name: price, dtype: float64"
      ]
     },
     "execution_count": 7,
     "metadata": {},
     "output_type": "execute_result"
    }
   ],
   "source": [
    "#find mean price for each point value\n",
    "points_avg = wine_stats.groupby(\"points\")[\"price\"].mean()\n",
    "points_avg"
   ]
  },
  {
   "cell_type": "code",
   "execution_count": 8,
   "metadata": {},
   "outputs": [],
   "source": [
    "#replacing missing prices with averages from the same point values\n",
    "wine_stats.loc[(wine_stats['price'].isnull()) & (wine_stats.points == 80), 'price']= points_avg.loc[80]\n",
    "wine_stats.loc[(wine_stats['price'].isnull()) & (wine_stats.points == 81), 'price']= points_avg.loc[81]\n",
    "wine_stats.loc[(wine_stats['price'].isnull()) & (wine_stats.points == 82), 'price']= points_avg.loc[82]\n",
    "wine_stats.loc[(wine_stats['price'].isnull()) & (wine_stats.points == 83), 'price']= points_avg.loc[83]\n",
    "wine_stats.loc[(wine_stats['price'].isnull()) & (wine_stats.points == 84), 'price']= points_avg.loc[84]\n",
    "wine_stats.loc[(wine_stats['price'].isnull()) & (wine_stats.points == 85), 'price']= points_avg.loc[85]\n",
    "wine_stats.loc[(wine_stats['price'].isnull()) & (wine_stats.points == 86), 'price']= points_avg.loc[86]\n",
    "wine_stats.loc[(wine_stats['price'].isnull()) & (wine_stats.points == 87), 'price']= points_avg.loc[87]\n",
    "wine_stats.loc[(wine_stats['price'].isnull()) & (wine_stats.points == 88), 'price']= points_avg.loc[88]\n",
    "wine_stats.loc[(wine_stats['price'].isnull()) & (wine_stats.points == 89), 'price']= points_avg.loc[89]\n",
    "wine_stats.loc[(wine_stats['price'].isnull()) & (wine_stats.points == 90), 'price']= points_avg.loc[90]\n",
    "wine_stats.loc[(wine_stats['price'].isnull()) & (wine_stats.points == 91), 'price']= points_avg.loc[91]\n",
    "wine_stats.loc[(wine_stats['price'].isnull()) & (wine_stats.points == 92), 'price']= points_avg.loc[92]\n",
    "wine_stats.loc[(wine_stats['price'].isnull()) & (wine_stats.points == 93), 'price']= points_avg.loc[93]\n",
    "wine_stats.loc[(wine_stats['price'].isnull()) & (wine_stats.points == 94), 'price']= points_avg.loc[94]\n",
    "wine_stats.loc[(wine_stats['price'].isnull()) & (wine_stats.points == 95), 'price']= points_avg.loc[95]\n",
    "wine_stats.loc[(wine_stats['price'].isnull()) & (wine_stats.points == 96), 'price']= points_avg.loc[96]\n",
    "wine_stats.loc[(wine_stats['price'].isnull()) & (wine_stats.points == 97), 'price']= points_avg.loc[97]\n",
    "wine_stats.loc[(wine_stats['price'].isnull()) & (wine_stats.points == 98), 'price']= points_avg.loc[98]\n",
    "wine_stats.loc[(wine_stats['price'].isnull()) & (wine_stats.points == 99), 'price']= points_avg.loc[99]\n",
    "wine_stats.loc[(wine_stats['price'].isnull()) & (wine_stats.points == 100), 'price']= points_avg.loc[100]"
   ]
  },
  {
   "cell_type": "code",
   "execution_count": 9,
   "metadata": {},
   "outputs": [],
   "source": [
    "#dropped missing variety data point\n",
    "wine_stats = wine_stats[pd.notnull(wine_stats['variety'])]"
   ]
  },
  {
   "cell_type": "code",
   "execution_count": 10,
   "metadata": {},
   "outputs": [],
   "source": [
    "#dropping missing taster name data\n",
    "wine_stats = wine_stats[pd.notnull(wine_stats['taster_name'])]"
   ]
  },
  {
   "cell_type": "markdown",
   "metadata": {},
   "source": [
    "I will next scale the price and points data to make it easier to work with and identify relationships with."
   ]
  },
  {
   "cell_type": "code",
   "execution_count": 11,
   "metadata": {},
   "outputs": [],
   "source": [
    "#Standard Scale the Price and Points\n",
    "from sklearn.preprocessing import StandardScaler\n",
    "scaled_features = wine_stats.copy()\n",
    "scaled_col = ['points', 'price']\n",
    "features = scaled_features[scaled_col]\n",
    "scaler = StandardScaler().fit(features.values)\n",
    "features = scaler.transform(features.values)"
   ]
  },
  {
   "cell_type": "code",
   "execution_count": 12,
   "metadata": {},
   "outputs": [
    {
     "name": "stdout",
     "output_type": "stream",
     "text": [
      "            country                                        description  \\\n",
      "0             Italy  Aromas include tropical fruit, broom, brimston...   \n",
      "1          Portugal  This is ripe and fruity, a wine that is smooth...   \n",
      "2                US  Tart and snappy, the flavors of lime flesh and...   \n",
      "3                US  Pineapple rind, lemon pith and orange blossom ...   \n",
      "4                US  Much like the regular bottling from 2012, this...   \n",
      "5             Spain  Blackberry and raspberry aromas show a typical...   \n",
      "6             Italy  Here's a bright, informal red that opens with ...   \n",
      "7            France  This dry and restrained wine offers spice in p...   \n",
      "8           Germany  Savory dried thyme notes accent sunnier flavor...   \n",
      "9            France  This has great depth of flavor with its fresh ...   \n",
      "10               US  Soft, supple plum envelopes an oaky structure ...   \n",
      "11           France  This is a dry wine, very spicy, with a tight, ...   \n",
      "12               US  Slightly reduced, this wine offers a chalky, t...   \n",
      "13            Italy  This is dominated by oak and oak-driven aromas...   \n",
      "14               US  Building on 150 years and six generations of w...   \n",
      "15          Germany  Zesty orange peels and apple notes abound in t...   \n",
      "16        Argentina  Baked plum, molasses, balsamic vinegar and che...   \n",
      "17        Argentina  Raw black-cherry aromas are direct and simple ...   \n",
      "18            Spain  Desiccated blackberry, leather, charred wood a...   \n",
      "19               US  Red fruit aromas pervade on the nose, with cig...   \n",
      "20               US  Ripe aromas of dark berries mingle with ample ...   \n",
      "21               US  A sleek mix of tart berry, stem and herb, alon...   \n",
      "22            Italy  Delicate aromas recall white flower and citrus...   \n",
      "23               US  This wine from the Geneseo district offers aro...   \n",
      "24            Italy  Aromas of prune, blackcurrant, toast and oak c...   \n",
      "25               US  Oak and earth intermingle around robust aromas...   \n",
      "26            Italy  Pretty aromas of yellow flower and stone fruit...   \n",
      "27            Italy  Aromas recall ripe dark berry, toast and a whi...   \n",
      "28            Italy  Aromas suggest mature berry, scorched earth, a...   \n",
      "29               US  Clarksburg is becoming a haven for Chenin Blan...   \n",
      "...             ...                                                ...   \n",
      "129941           US  A Chardonnay with an unusual companion, 8% Sém...   \n",
      "129942           US  This is classic in herbaceous aromas and flavo...   \n",
      "129943        Italy  A blend of Nero d'Avola and Syrah, this convey...   \n",
      "129944       Israel  Deep garnet in the glass, this has a nose of b...   \n",
      "129945           US  Hailing from one of the more popular vineyards...   \n",
      "129946      Germany  Plump, clingy peach and honey notes are cut wi...   \n",
      "129947        Italy  A blend of 65% Cabernet Sauvignon, 30% Merlot ...   \n",
      "129948    Argentina  Raspberry and cassis aromas are fresh and upri...   \n",
      "129949           US  There's no bones about the use of oak in this ...   \n",
      "129950           US  This opens with herbaceous dollops of thyme an...   \n",
      "129951       France  Hugely spicy this rich wine is described as sw...   \n",
      "129952           US  This Zinfandel from the eastern section of Nap...   \n",
      "129953  New Zealand  Roughly two-thirds Cabernet and one-third Merl...   \n",
      "129954  New Zealand  One of the more characterful Pinot Gris for th...   \n",
      "129955  New Zealand  Like Dog Point's 2011 Chardonnay, this wine is...   \n",
      "129956  New Zealand  The blend is 44% Merlot, 33% Cabernet Sauvigno...   \n",
      "129957        Spain  Lightly baked berry aromas vie for attention w...   \n",
      "129958  New Zealand  This blend of Cabernet Sauvignon-Merlot and Ca...   \n",
      "129959       France  The granite soil of the Brand Grand Cru vineya...   \n",
      "129960     Portugal  Fresh and fruity, this is full of red cherry f...   \n",
      "129961        Italy  Intense aromas of wild cherry, baking spice, t...   \n",
      "129962        Italy  Blackberry, cassis, grilled herb and toasted a...   \n",
      "129963       Israel  A bouquet of black cherry, tart cranberry and ...   \n",
      "129964       France  Initially quite muted, this wine slowly develo...   \n",
      "129965       France  While it's rich, this beautiful dry wine also ...   \n",
      "129966      Germany  Notes of honeysuckle and cantaloupe sweeten th...   \n",
      "129967           US  Citation is given as much as a decade of bottl...   \n",
      "129968       France  Well-drained gravel soil gives this wine its c...   \n",
      "129969       France  A dry style of Pinot Gris, this is crisp with ...   \n",
      "129970       France  Big, rich and off-dry, this is powered by inte...   \n",
      "\n",
      "          points     price         taster_name                   variety  \\\n",
      "0      -0.545548 -0.246007       Kerin O’Keefe               White Blend   \n",
      "1      -0.545548 -0.481708          Roger Voss            Portuguese Red   \n",
      "2      -0.545548 -0.505512        Paul Gregutt                Pinot Gris   \n",
      "3      -0.545548 -0.529316  Alexander Peartree                  Riesling   \n",
      "4      -0.545548  0.708475        Paul Gregutt                Pinot Noir   \n",
      "5      -0.545548 -0.481708   Michael Schachner        Tempranillo-Merlot   \n",
      "6      -0.545548 -0.457905       Kerin O’Keefe                  Frappato   \n",
      "7      -0.545548 -0.267475          Roger Voss            Gewürztraminer   \n",
      "8      -0.545548 -0.553119  Anna Lee C. Iijima            Gewürztraminer   \n",
      "9      -0.545548 -0.196064          Roger Voss                Pinot Gris   \n",
      "10     -0.545548 -0.386493      Virginie Boone        Cabernet Sauvignon   \n",
      "11     -0.545548 -0.124653          Roger Voss            Gewürztraminer   \n",
      "12     -0.545548 -0.029438      Virginie Boone        Cabernet Sauvignon   \n",
      "13     -0.545548 -0.246007       Kerin O’Keefe         Nerello Mascalese   \n",
      "14     -0.545548 -0.553119       Matt Kettmann                Chardonnay   \n",
      "15     -0.545548 -0.267475  Anna Lee C. Iijima                  Riesling   \n",
      "16     -0.545548 -0.124653   Michael Schachner                    Malbec   \n",
      "17     -0.545548 -0.529316   Michael Schachner                    Malbec   \n",
      "18     -0.545548 -0.172260   Michael Schachner         Tempranillo Blend   \n",
      "19     -0.545548 -0.077046  Alexander Peartree                  Meritage   \n",
      "20     -0.545548 -0.291279  Alexander Peartree                 Red Blend   \n",
      "21     -0.545548 -0.362690        Paul Gregutt                Pinot Noir   \n",
      "22     -0.545548 -0.386493       Kerin O’Keefe               White Blend   \n",
      "23     -0.545548 -0.315082       Matt Kettmann                    Merlot   \n",
      "24     -0.545548 -0.005635       Kerin O’Keefe              Nero d'Avola   \n",
      "25     -0.545548  0.803690      Virginie Boone                Pinot Noir   \n",
      "26     -0.545548 -0.529316       Kerin O’Keefe               White Blend   \n",
      "27     -0.545548 -0.600727       Kerin O’Keefe              Nero d'Avola   \n",
      "28     -0.545548 -0.434101       Kerin O’Keefe                 Red Blend   \n",
      "29     -0.883954 -0.457905      Virginie Boone              Chenin Blanc   \n",
      "...          ...       ...                 ...                       ...   \n",
      "129941  0.469672 -0.362690      Virginie Boone                Chardonnay   \n",
      "129942  0.469672 -0.005635      Virginie Boone        Cabernet Sauvignon   \n",
      "129943  0.469672 -0.148457       Kerin O’Keefe                 Red Blend   \n",
      "129944  0.469672 -0.243671       Mike DeSimone                    Shiraz   \n",
      "129945  0.469672 -0.362690       Matt Kettmann              Chenin Blanc   \n",
      "129946  0.469672 -0.434101  Anna Lee C. Iijima                  Riesling   \n",
      "129947  0.469672 -0.362690       Kerin O’Keefe                 Red Blend   \n",
      "129948  0.469672  0.184795   Michael Schachner                    Malbec   \n",
      "129949  0.469672 -0.005635      Virginie Boone                Chardonnay   \n",
      "129950  0.469672 -0.005635      Virginie Boone                 Zinfandel   \n",
      "129951  0.469672 -0.124653          Roger Voss            Gewürztraminer   \n",
      "129952  0.469672 -0.315082      Virginie Boone                 Zinfandel   \n",
      "129953  0.469672 -0.243671      Joe Czerwinski           Cabernet Merlot   \n",
      "129954  0.469672 -0.481708      Joe Czerwinski                Pinot Gris   \n",
      "129955  0.469672  0.113384      Joe Czerwinski                Chardonnay   \n",
      "129956  0.469672 -0.386493      Joe Czerwinski  Bordeaux-style Red Blend   \n",
      "129957  0.469672 -0.434101   Michael Schachner         Tempranillo Blend   \n",
      "129958  0.469672 -0.005635      Joe Czerwinski  Bordeaux-style Red Blend   \n",
      "129959  0.469672  0.518046          Roger Voss                Pinot Gris   \n",
      "129960  0.469672  0.303813          Roger Voss                Pinot Noir   \n",
      "129961  0.469672 -0.124653       Kerin O’Keefe                  Frappato   \n",
      "129962  0.469672  0.113384       Kerin O’Keefe              Nero d'Avola   \n",
      "129963  0.469672 -0.362690       Mike DeSimone        Cabernet Sauvignon   \n",
      "129964  0.469672  0.039750          Roger Voss            Gewürztraminer   \n",
      "129965  0.469672 -0.172260          Roger Voss                Pinot Gris   \n",
      "129966  0.469672 -0.172260  Anna Lee C. Iijima                  Riesling   \n",
      "129967  0.469672  0.946512        Paul Gregutt                Pinot Noir   \n",
      "129968  0.469672 -0.124653          Roger Voss            Gewürztraminer   \n",
      "129969  0.469672 -0.077046          Roger Voss                Pinot Gris   \n",
      "129970  0.469672 -0.338886          Roger Voss            Gewürztraminer   \n",
      "\n",
      "                                          winery  \n",
      "0                                        Nicosia  \n",
      "1                            Quinta dos Avidagos  \n",
      "2                                      Rainstorm  \n",
      "3                                     St. Julian  \n",
      "4                                   Sweet Cheeks  \n",
      "5                                         Tandem  \n",
      "6                                Terre di Giurfo  \n",
      "7                                       Trimbach  \n",
      "8                                    Heinz Eifel  \n",
      "9                             Jean-Baptiste Adam  \n",
      "10                            Kirkland Signature  \n",
      "11                                    Leon Beyer  \n",
      "12                              Louis M. Martini  \n",
      "13                           Masseria Setteporte  \n",
      "14                                      Mirassou  \n",
      "15                               Richard Böcking  \n",
      "16                                 Felix Lavaque  \n",
      "17                                 Gaucho Andino  \n",
      "18                                      Pradorey  \n",
      "19                                   Quiévremont  \n",
      "20                                   Quiévremont  \n",
      "21                                       Acrobat  \n",
      "22                            Baglio di Pianetto  \n",
      "23                                       Bianchi  \n",
      "24                                     Canicattì  \n",
      "25                           Castello di Amorosa  \n",
      "26                                      Stemmari  \n",
      "27                                      Stemmari  \n",
      "28                               Terre di Giurfo  \n",
      "29                       Clarksburg Wine Company  \n",
      "...                                          ...  \n",
      "129941                                   Apriori  \n",
      "129942                                  Arrowood  \n",
      "129943           Baglio del Cristo di Campobello  \n",
      "129944                                    Barkan  \n",
      "129945                                 Birichino  \n",
      "129946              Bischöfliche Weingüter Trier  \n",
      "129947                  Feudo Principi di Butera  \n",
      "129948                           Finca Las Moras  \n",
      "129949                             Flora Springs  \n",
      "129950                                    Hendry  \n",
      "129951                         Henri Schoenheitz  \n",
      "129952                                   Houdini  \n",
      "129953                                Mills Reef  \n",
      "129954                                       Ara  \n",
      "129955                                 Dog Point  \n",
      "129956                                Esk Valley  \n",
      "129957                        Viñedos Real Rubio  \n",
      "129958                                    Babich  \n",
      "129959                         Cave de Turckheim  \n",
      "129960                       Caves Transmontanas  \n",
      "129961                                       COS  \n",
      "129962                                  Cusumano  \n",
      "129963                                    Dalton  \n",
      "129964                           Domaine Ehrhart  \n",
      "129965                   Domaine Rieflé-Landmann  \n",
      "129966  Dr. H. Thanisch (Erben Müller-Burggraef)  \n",
      "129967                                  Citation  \n",
      "129968                           Domaine Gresser  \n",
      "129969                      Domaine Marcel Deiss  \n",
      "129970                          Domaine Schoffit  \n",
      "\n",
      "[103727 rows x 7 columns]\n"
     ]
    }
   ],
   "source": [
    "scaled_features[scaled_col] = features\n",
    "print(scaled_features)"
   ]
  },
  {
   "cell_type": "markdown",
   "metadata": {},
   "source": [
    "I will now check for outliers in the data"
   ]
  },
  {
   "cell_type": "code",
   "execution_count": 46,
   "metadata": {},
   "outputs": [
    {
     "data": {
      "text/plain": [
       "(0, 4000)"
      ]
     },
     "execution_count": 46,
     "metadata": {},
     "output_type": "execute_result"
    },
    {
     "data": {
      "image/png": "[encoded data removed]",
      "text/plain": [
       "<Figure size 576x1008 with 1 Axes>"
      ]
     },
     "metadata": {},
     "output_type": "display_data"
    }
   ],
   "source": [
    "#boxplot\n",
    "bbox = wine_stats['price'].plot(kind=\"box\")\n",
    "#scaling\n",
    "sns.set_style(\"whitegrid\")\n",
    "ax = sns.boxplot(x=\"points\", y=\"price\", data=wine_stats)\n",
    "#resizing\n",
    "sns.set(rc={'figure.figsize':(8, 12)})\n",
    "#setting range\n",
    "plt.ylim(0, 4000)"
   ]
  },
  {
   "cell_type": "code",
   "execution_count": 14,
   "metadata": {},
   "outputs": [
    {
     "data": {
      "text/html": [
       "<div>\n",
       "<style scoped>\n",
       "    .dataframe tbody tr th:only-of-type {\n",
       "        vertical-align: middle;\n",
       "    }\n",
       "\n",
       "    .dataframe tbody tr th {\n",
       "        vertical-align: top;\n",
       "    }\n",
       "\n",
       "    .dataframe thead th {\n",
       "        text-align: right;\n",
       "    }\n",
       "</style>\n",
       "<table border=\"1\" class=\"dataframe\">\n",
       "  <thead>\n",
       "    <tr style=\"text-align: right;\">\n",
       "      <th></th>\n",
       "      <th>points</th>\n",
       "      <th>price</th>\n",
       "    </tr>\n",
       "  </thead>\n",
       "  <tbody>\n",
       "    <tr>\n",
       "      <th>count</th>\n",
       "      <td>103727.000000</td>\n",
       "      <td>103727.000000</td>\n",
       "    </tr>\n",
       "    <tr>\n",
       "      <th>mean</th>\n",
       "      <td>88.612107</td>\n",
       "      <td>35.236719</td>\n",
       "    </tr>\n",
       "    <tr>\n",
       "      <th>std</th>\n",
       "      <td>2.955039</td>\n",
       "      <td>42.010532</td>\n",
       "    </tr>\n",
       "    <tr>\n",
       "      <th>min</th>\n",
       "      <td>80.000000</td>\n",
       "      <td>4.000000</td>\n",
       "    </tr>\n",
       "    <tr>\n",
       "      <th>25%</th>\n",
       "      <td>87.000000</td>\n",
       "      <td>17.000000</td>\n",
       "    </tr>\n",
       "    <tr>\n",
       "      <th>50%</th>\n",
       "      <td>88.000000</td>\n",
       "      <td>25.000000</td>\n",
       "    </tr>\n",
       "    <tr>\n",
       "      <th>75%</th>\n",
       "      <td>91.000000</td>\n",
       "      <td>42.000000</td>\n",
       "    </tr>\n",
       "    <tr>\n",
       "      <th>max</th>\n",
       "      <td>100.000000</td>\n",
       "      <td>3300.000000</td>\n",
       "    </tr>\n",
       "  </tbody>\n",
       "</table>\n",
       "</div>"
      ],
      "text/plain": [
       "              points          price\n",
       "count  103727.000000  103727.000000\n",
       "mean       88.612107      35.236719\n",
       "std         2.955039      42.010532\n",
       "min        80.000000       4.000000\n",
       "25%        87.000000      17.000000\n",
       "50%        88.000000      25.000000\n",
       "75%        91.000000      42.000000\n",
       "max       100.000000    3300.000000"
      ]
     },
     "execution_count": 14,
     "metadata": {},
     "output_type": "execute_result"
    }
   ],
   "source": [
    "#summary statistics\n",
    "sum_stats_wine = wine_stats.describe()\n",
    "sum_stats_wine"
   ]
  },
  {
   "cell_type": "markdown",
   "metadata": {},
   "source": [
    "It looks like there are many outliers in the data that fall outside the 25%-75% range. In looking at the summary statistics of the data above it seems reasonable that a bottle of wine would be priced as high as the data shows, so I will leave in the data points."
   ]
  },
  {
   "cell_type": "markdown",
   "metadata": {},
   "source": [
    "# Describe Data"
   ]
  },
  {
   "cell_type": "markdown",
   "metadata": {},
   "source": [
    "To help in identifying if there is a relationship between points and price we will look at the summary statistics of price and wine point values received."
   ]
  },
  {
   "cell_type": "code",
   "execution_count": 15,
   "metadata": {},
   "outputs": [
    {
     "data": {
      "text/html": [
       "<div>\n",
       "<style scoped>\n",
       "    .dataframe tbody tr th:only-of-type {\n",
       "        vertical-align: middle;\n",
       "    }\n",
       "\n",
       "    .dataframe tbody tr th {\n",
       "        vertical-align: top;\n",
       "    }\n",
       "\n",
       "    .dataframe thead th {\n",
       "        text-align: right;\n",
       "    }\n",
       "</style>\n",
       "<table border=\"1\" class=\"dataframe\">\n",
       "  <thead>\n",
       "    <tr style=\"text-align: right;\">\n",
       "      <th></th>\n",
       "      <th>points</th>\n",
       "      <th>price</th>\n",
       "    </tr>\n",
       "  </thead>\n",
       "  <tbody>\n",
       "    <tr>\n",
       "      <th>count</th>\n",
       "      <td>103727.000000</td>\n",
       "      <td>103727.000000</td>\n",
       "    </tr>\n",
       "    <tr>\n",
       "      <th>mean</th>\n",
       "      <td>88.612107</td>\n",
       "      <td>35.236719</td>\n",
       "    </tr>\n",
       "    <tr>\n",
       "      <th>std</th>\n",
       "      <td>2.955039</td>\n",
       "      <td>42.010532</td>\n",
       "    </tr>\n",
       "    <tr>\n",
       "      <th>min</th>\n",
       "      <td>80.000000</td>\n",
       "      <td>4.000000</td>\n",
       "    </tr>\n",
       "    <tr>\n",
       "      <th>25%</th>\n",
       "      <td>87.000000</td>\n",
       "      <td>17.000000</td>\n",
       "    </tr>\n",
       "    <tr>\n",
       "      <th>50%</th>\n",
       "      <td>88.000000</td>\n",
       "      <td>25.000000</td>\n",
       "    </tr>\n",
       "    <tr>\n",
       "      <th>75%</th>\n",
       "      <td>91.000000</td>\n",
       "      <td>42.000000</td>\n",
       "    </tr>\n",
       "    <tr>\n",
       "      <th>max</th>\n",
       "      <td>100.000000</td>\n",
       "      <td>3300.000000</td>\n",
       "    </tr>\n",
       "  </tbody>\n",
       "</table>\n",
       "</div>"
      ],
      "text/plain": [
       "              points          price\n",
       "count  103727.000000  103727.000000\n",
       "mean       88.612107      35.236719\n",
       "std         2.955039      42.010532\n",
       "min        80.000000       4.000000\n",
       "25%        87.000000      17.000000\n",
       "50%        88.000000      25.000000\n",
       "75%        91.000000      42.000000\n",
       "max       100.000000    3300.000000"
      ]
     },
     "execution_count": 15,
     "metadata": {},
     "output_type": "execute_result"
    }
   ],
   "source": [
    "#summary statistics\n",
    "sum_stats_wine"
   ]
  },
  {
   "cell_type": "code",
   "execution_count": 16,
   "metadata": {},
   "outputs": [
    {
     "data": {
      "text/html": [
       "<div>\n",
       "<style scoped>\n",
       "    .dataframe tbody tr th:only-of-type {\n",
       "        vertical-align: middle;\n",
       "    }\n",
       "\n",
       "    .dataframe tbody tr th {\n",
       "        vertical-align: top;\n",
       "    }\n",
       "\n",
       "    .dataframe thead th {\n",
       "        text-align: right;\n",
       "    }\n",
       "</style>\n",
       "<table border=\"1\" class=\"dataframe\">\n",
       "  <thead>\n",
       "    <tr style=\"text-align: right;\">\n",
       "      <th></th>\n",
       "      <th>points</th>\n",
       "      <th>price</th>\n",
       "    </tr>\n",
       "  </thead>\n",
       "  <tbody>\n",
       "    <tr>\n",
       "      <th>count</th>\n",
       "      <td>103727.000000</td>\n",
       "      <td>103727.000000</td>\n",
       "    </tr>\n",
       "    <tr>\n",
       "      <th>mean</th>\n",
       "      <td>88.612107</td>\n",
       "      <td>35.236719</td>\n",
       "    </tr>\n",
       "    <tr>\n",
       "      <th>std</th>\n",
       "      <td>2.955039</td>\n",
       "      <td>42.010532</td>\n",
       "    </tr>\n",
       "    <tr>\n",
       "      <th>min</th>\n",
       "      <td>80.000000</td>\n",
       "      <td>4.000000</td>\n",
       "    </tr>\n",
       "    <tr>\n",
       "      <th>1%</th>\n",
       "      <td>82.000000</td>\n",
       "      <td>8.000000</td>\n",
       "    </tr>\n",
       "    <tr>\n",
       "      <th>5%</th>\n",
       "      <td>84.000000</td>\n",
       "      <td>11.000000</td>\n",
       "    </tr>\n",
       "    <tr>\n",
       "      <th>50%</th>\n",
       "      <td>88.000000</td>\n",
       "      <td>25.000000</td>\n",
       "    </tr>\n",
       "    <tr>\n",
       "      <th>95%</th>\n",
       "      <td>93.000000</td>\n",
       "      <td>81.436938</td>\n",
       "    </tr>\n",
       "    <tr>\n",
       "      <th>99%</th>\n",
       "      <td>95.000000</td>\n",
       "      <td>159.292531</td>\n",
       "    </tr>\n",
       "    <tr>\n",
       "      <th>max</th>\n",
       "      <td>100.000000</td>\n",
       "      <td>3300.000000</td>\n",
       "    </tr>\n",
       "  </tbody>\n",
       "</table>\n",
       "</div>"
      ],
      "text/plain": [
       "              points          price\n",
       "count  103727.000000  103727.000000\n",
       "mean       88.612107      35.236719\n",
       "std         2.955039      42.010532\n",
       "min        80.000000       4.000000\n",
       "1%         82.000000       8.000000\n",
       "5%         84.000000      11.000000\n",
       "50%        88.000000      25.000000\n",
       "95%        93.000000      81.436938\n",
       "99%        95.000000     159.292531\n",
       "max       100.000000    3300.000000"
      ]
     },
     "execution_count": 16,
     "metadata": {},
     "output_type": "execute_result"
    }
   ],
   "source": [
    "#percentiles\n",
    "wine_stats.describe(percentiles=[.01,.05,.95,.99])"
   ]
  },
  {
   "cell_type": "markdown",
   "metadata": {},
   "source": [
    "The first table shows us that there is a wide range of values for wine bottle prices. The maximum price is much higher than the mean. The second table helps us to answer our question of interest. In looking at the percentile values, we can see that the price of wine increases as wine point value increases."
   ]
  },
  {
   "cell_type": "markdown",
   "metadata": {},
   "source": [
    "# Visualize Data"
   ]
  },
  {
   "cell_type": "markdown",
   "metadata": {},
   "source": [
    "We will now look at visual representations of the relationship between wine bottle prices and the point values that they received."
   ]
  },
  {
   "cell_type": "code",
   "execution_count": 17,
   "metadata": {},
   "outputs": [
    {
     "data": {
      "text/plain": [
       "<seaborn.axisgrid.FacetGrid at 0x11028e9e8>"
      ]
     },
     "execution_count": 17,
     "metadata": {},
     "output_type": "execute_result"
    },
    {
     "data": {
      "image/png": "[encoded data removed]",
      "text/plain": [
       "<Figure size 360x360 with 1 Axes>"
      ]
     },
     "metadata": {},
     "output_type": "display_data"
    }
   ],
   "source": [
    "#scatter plot\n",
    "sns.lmplot(x=\"price\", y=\"points\", data=wine_stats)"
   ]
  },
  {
   "cell_type": "code",
   "execution_count": 18,
   "metadata": {},
   "outputs": [
    {
     "data": {
      "text/plain": [
       "<matplotlib.axes._subplots.AxesSubplot at 0x10e947470>"
      ]
     },
     "execution_count": 18,
     "metadata": {},
     "output_type": "execute_result"
    },
    {
     "data": {
      "image/png": "[encoded data removed]",
      "text/plain": [
       "<Figure size 864x1008 with 1 Axes>"
      ]
     },
     "metadata": {},
     "output_type": "display_data"
    }
   ],
   "source": [
    "#bar plot\n",
    "sns.barplot(wine_stats.points, wine_stats.price)"
   ]
  },
  {
   "cell_type": "markdown",
   "metadata": {},
   "source": [
    "The scatter plot shows that there is a clear positive relationship between our variables of interest. We can also see in the second graph that there is a clear increase in price of wine as point value increases. We can also see that it appears to be a somewhat exponential relationship."
   ]
  },
  {
   "cell_type": "markdown",
   "metadata": {},
   "source": [
    "# Data Set 2: .txt\n",
    "The next data set that I used was from data.gov. It is a .txt file that recorded the CPI's from 1995 to August 2018. I am interested to see if there are certain months that cause the CPI to increase or decrease and if there is any relationship with the CPI and economic recessions and booms."
   ]
  },
  {
   "cell_type": "markdown",
   "metadata": {},
   "source": [
    "# Download Data\n"
   ]
  },
  {
   "cell_type": "code",
   "execution_count": 19,
   "metadata": {},
   "outputs": [],
   "source": [
    "#download data\n",
    "CPI_data = pd.read_csv(\"https://download.bls.gov/pub/time.series/ap/ap.data.0.Current\", delimiter = \"\\t\")"
   ]
  },
  {
   "cell_type": "markdown",
   "metadata": {},
   "source": [
    "I will now look at the first five columns of data to see what it looks like."
   ]
  },
  {
   "cell_type": "code",
   "execution_count": 20,
   "metadata": {},
   "outputs": [
    {
     "data": {
      "text/html": [
       "<div>\n",
       "<style scoped>\n",
       "    .dataframe tbody tr th:only-of-type {\n",
       "        vertical-align: middle;\n",
       "    }\n",
       "\n",
       "    .dataframe tbody tr th {\n",
       "        vertical-align: top;\n",
       "    }\n",
       "\n",
       "    .dataframe thead th {\n",
       "        text-align: right;\n",
       "    }\n",
       "</style>\n",
       "<table border=\"1\" class=\"dataframe\">\n",
       "  <thead>\n",
       "    <tr style=\"text-align: right;\">\n",
       "      <th></th>\n",
       "      <th>series_id</th>\n",
       "      <th>year</th>\n",
       "      <th>period</th>\n",
       "      <th>value</th>\n",
       "      <th>footnote_codes</th>\n",
       "    </tr>\n",
       "  </thead>\n",
       "  <tbody>\n",
       "    <tr>\n",
       "      <th>0</th>\n",
       "      <td>APU0000701111</td>\n",
       "      <td>1995</td>\n",
       "      <td>M01</td>\n",
       "      <td>0.238</td>\n",
       "      <td></td>\n",
       "    </tr>\n",
       "    <tr>\n",
       "      <th>1</th>\n",
       "      <td>APU0000701111</td>\n",
       "      <td>1995</td>\n",
       "      <td>M02</td>\n",
       "      <td>0.242</td>\n",
       "      <td></td>\n",
       "    </tr>\n",
       "    <tr>\n",
       "      <th>2</th>\n",
       "      <td>APU0000701111</td>\n",
       "      <td>1995</td>\n",
       "      <td>M03</td>\n",
       "      <td>0.242</td>\n",
       "      <td></td>\n",
       "    </tr>\n",
       "    <tr>\n",
       "      <th>3</th>\n",
       "      <td>APU0000701111</td>\n",
       "      <td>1995</td>\n",
       "      <td>M04</td>\n",
       "      <td>0.236</td>\n",
       "      <td></td>\n",
       "    </tr>\n",
       "    <tr>\n",
       "      <th>4</th>\n",
       "      <td>APU0000701111</td>\n",
       "      <td>1995</td>\n",
       "      <td>M05</td>\n",
       "      <td>0.244</td>\n",
       "      <td></td>\n",
       "    </tr>\n",
       "  </tbody>\n",
       "</table>\n",
       "</div>"
      ],
      "text/plain": [
       "           series_id  year period  value footnote_codes\n",
       "0  APU0000701111      1995    M01  0.238               \n",
       "1  APU0000701111      1995    M02  0.242               \n",
       "2  APU0000701111      1995    M03  0.242               \n",
       "3  APU0000701111      1995    M04  0.236               \n",
       "4  APU0000701111      1995    M05  0.244               "
      ]
     },
     "execution_count": 20,
     "metadata": {},
     "output_type": "execute_result"
    }
   ],
   "source": [
    "#view daata\n",
    "CPI_data.head(5)"
   ]
  },
  {
   "cell_type": "markdown",
   "metadata": {},
   "source": [
    "I now check to see if there is any missing data in the data set."
   ]
  },
  {
   "cell_type": "code",
   "execution_count": 21,
   "metadata": {},
   "outputs": [
    {
     "data": {
      "text/plain": [
       "series_id         0\n",
       "year              0\n",
       "period            0\n",
       "value             0\n",
       "footnote_codes    0\n",
       "dtype: int64"
      ]
     },
     "execution_count": 21,
     "metadata": {},
     "output_type": "execute_result"
    }
   ],
   "source": [
    "#check for missing data\n",
    "CPI_data.isnull().sum()"
   ]
  },
  {
   "cell_type": "markdown",
   "metadata": {},
   "source": [
    "I will now look at the summary statistics and plot a box plot to see if there are any outliers."
   ]
  },
  {
   "cell_type": "code",
   "execution_count": 22,
   "metadata": {},
   "outputs": [
    {
     "data": {
      "text/html": [
       "<div>\n",
       "<style scoped>\n",
       "    .dataframe tbody tr th:only-of-type {\n",
       "        vertical-align: middle;\n",
       "    }\n",
       "\n",
       "    .dataframe tbody tr th {\n",
       "        vertical-align: top;\n",
       "    }\n",
       "\n",
       "    .dataframe thead th {\n",
       "        text-align: right;\n",
       "    }\n",
       "</style>\n",
       "<table border=\"1\" class=\"dataframe\">\n",
       "  <thead>\n",
       "    <tr style=\"text-align: right;\">\n",
       "      <th></th>\n",
       "      <th>year</th>\n",
       "      <th>value</th>\n",
       "    </tr>\n",
       "  </thead>\n",
       "  <tbody>\n",
       "    <tr>\n",
       "      <th>count</th>\n",
       "      <td>165144.000000</td>\n",
       "      <td>165144.000000</td>\n",
       "    </tr>\n",
       "    <tr>\n",
       "      <th>mean</th>\n",
       "      <td>2005.768650</td>\n",
       "      <td>11.047894</td>\n",
       "    </tr>\n",
       "    <tr>\n",
       "      <th>std</th>\n",
       "      <td>6.800774</td>\n",
       "      <td>24.956184</td>\n",
       "    </tr>\n",
       "    <tr>\n",
       "      <th>min</th>\n",
       "      <td>1995.000000</td>\n",
       "      <td>0.000000</td>\n",
       "    </tr>\n",
       "    <tr>\n",
       "      <th>25%</th>\n",
       "      <td>2000.000000</td>\n",
       "      <td>1.189000</td>\n",
       "    </tr>\n",
       "    <tr>\n",
       "      <th>50%</th>\n",
       "      <td>2006.000000</td>\n",
       "      <td>2.331000</td>\n",
       "    </tr>\n",
       "    <tr>\n",
       "      <th>75%</th>\n",
       "      <td>2011.000000</td>\n",
       "      <td>3.832000</td>\n",
       "    </tr>\n",
       "    <tr>\n",
       "      <th>max</th>\n",
       "      <td>2018.000000</td>\n",
       "      <td>224.187000</td>\n",
       "    </tr>\n",
       "  </tbody>\n",
       "</table>\n",
       "</div>"
      ],
      "text/plain": [
       "                year          value\n",
       "count  165144.000000  165144.000000\n",
       "mean     2005.768650      11.047894\n",
       "std         6.800774      24.956184\n",
       "min      1995.000000       0.000000\n",
       "25%      2000.000000       1.189000\n",
       "50%      2006.000000       2.331000\n",
       "75%      2011.000000       3.832000\n",
       "max      2018.000000     224.187000"
      ]
     },
     "execution_count": 22,
     "metadata": {},
     "output_type": "execute_result"
    }
   ],
   "source": [
    "#summary statistics\n",
    "sum_stats_CPI = CPI_data.describe()\n",
    "sum_stats_CPI"
   ]
  },
  {
   "cell_type": "code",
   "execution_count": 23,
   "metadata": {},
   "outputs": [
    {
     "data": {
      "text/plain": [
       "(0, 275)"
      ]
     },
     "execution_count": 23,
     "metadata": {},
     "output_type": "execute_result"
    },
    {
     "data": {
      "image/png": "[encoded data removed]",
      "text/plain": [
       "<Figure size 864x1008 with 1 Axes>"
      ]
     },
     "metadata": {},
     "output_type": "display_data"
    }
   ],
   "source": [
    "#boxplot\n",
    "bbox = CPI_data['value'].plot(kind=\"box\")\n",
    "#scaling\n",
    "sns.set_style(\"whitegrid\")\n",
    "ax = sns.boxplot(x=\"period\", y=\"value\", data=CPI_data)\n",
    "#resizing\n",
    "sns.set(rc={'figure.figsize':(12, 18)})\n",
    "#setting range\n",
    "plt.ylim(0, 275)"
   ]
  },
  {
   "cell_type": "markdown",
   "metadata": {},
   "source": [
    "There are many outliers in the data and it suprised me that there could be a max CPI value of 224.187. I did furthur research on if this was possible and it is possible to reach that high of a CPI. It simply means that prices doubled. In examining for outliers it seems that all of the data is valid and I will not drop any data due to outliers."
   ]
  },
  {
   "cell_type": "markdown",
   "metadata": {},
   "source": [
    "# Describe Data"
   ]
  },
  {
   "cell_type": "markdown",
   "metadata": {},
   "source": [
    "I will now look at general statistics of the data to get an overall sense of what is happening with the CPI."
   ]
  },
  {
   "cell_type": "code",
   "execution_count": 24,
   "metadata": {},
   "outputs": [
    {
     "data": {
      "text/html": [
       "<div>\n",
       "<style scoped>\n",
       "    .dataframe tbody tr th:only-of-type {\n",
       "        vertical-align: middle;\n",
       "    }\n",
       "\n",
       "    .dataframe tbody tr th {\n",
       "        vertical-align: top;\n",
       "    }\n",
       "\n",
       "    .dataframe thead th {\n",
       "        text-align: right;\n",
       "    }\n",
       "</style>\n",
       "<table border=\"1\" class=\"dataframe\">\n",
       "  <thead>\n",
       "    <tr style=\"text-align: right;\">\n",
       "      <th></th>\n",
       "      <th>year</th>\n",
       "      <th>value</th>\n",
       "    </tr>\n",
       "  </thead>\n",
       "  <tbody>\n",
       "    <tr>\n",
       "      <th>count</th>\n",
       "      <td>165144.000000</td>\n",
       "      <td>165144.000000</td>\n",
       "    </tr>\n",
       "    <tr>\n",
       "      <th>mean</th>\n",
       "      <td>2005.768650</td>\n",
       "      <td>11.047894</td>\n",
       "    </tr>\n",
       "    <tr>\n",
       "      <th>std</th>\n",
       "      <td>6.800774</td>\n",
       "      <td>24.956184</td>\n",
       "    </tr>\n",
       "    <tr>\n",
       "      <th>min</th>\n",
       "      <td>1995.000000</td>\n",
       "      <td>0.000000</td>\n",
       "    </tr>\n",
       "    <tr>\n",
       "      <th>25%</th>\n",
       "      <td>2000.000000</td>\n",
       "      <td>1.189000</td>\n",
       "    </tr>\n",
       "    <tr>\n",
       "      <th>50%</th>\n",
       "      <td>2006.000000</td>\n",
       "      <td>2.331000</td>\n",
       "    </tr>\n",
       "    <tr>\n",
       "      <th>75%</th>\n",
       "      <td>2011.000000</td>\n",
       "      <td>3.832000</td>\n",
       "    </tr>\n",
       "    <tr>\n",
       "      <th>max</th>\n",
       "      <td>2018.000000</td>\n",
       "      <td>224.187000</td>\n",
       "    </tr>\n",
       "  </tbody>\n",
       "</table>\n",
       "</div>"
      ],
      "text/plain": [
       "                year          value\n",
       "count  165144.000000  165144.000000\n",
       "mean     2005.768650      11.047894\n",
       "std         6.800774      24.956184\n",
       "min      1995.000000       0.000000\n",
       "25%      2000.000000       1.189000\n",
       "50%      2006.000000       2.331000\n",
       "75%      2011.000000       3.832000\n",
       "max      2018.000000     224.187000"
      ]
     },
     "execution_count": 24,
     "metadata": {},
     "output_type": "execute_result"
    }
   ],
   "source": [
    "#summary statistics\n",
    "sum_stats_CPI"
   ]
  },
  {
   "cell_type": "code",
   "execution_count": 25,
   "metadata": {},
   "outputs": [
    {
     "data": {
      "text/html": [
       "<div>\n",
       "<style scoped>\n",
       "    .dataframe tbody tr th:only-of-type {\n",
       "        vertical-align: middle;\n",
       "    }\n",
       "\n",
       "    .dataframe tbody tr th {\n",
       "        vertical-align: top;\n",
       "    }\n",
       "\n",
       "    .dataframe thead th {\n",
       "        text-align: right;\n",
       "    }\n",
       "</style>\n",
       "<table border=\"1\" class=\"dataframe\">\n",
       "  <thead>\n",
       "    <tr style=\"text-align: right;\">\n",
       "      <th></th>\n",
       "      <th>year</th>\n",
       "      <th>value</th>\n",
       "    </tr>\n",
       "  </thead>\n",
       "  <tbody>\n",
       "    <tr>\n",
       "      <th>count</th>\n",
       "      <td>165144.000000</td>\n",
       "      <td>165144.000000</td>\n",
       "    </tr>\n",
       "    <tr>\n",
       "      <th>mean</th>\n",
       "      <td>2005.768650</td>\n",
       "      <td>11.047894</td>\n",
       "    </tr>\n",
       "    <tr>\n",
       "      <th>std</th>\n",
       "      <td>6.800774</td>\n",
       "      <td>24.956184</td>\n",
       "    </tr>\n",
       "    <tr>\n",
       "      <th>min</th>\n",
       "      <td>1995.000000</td>\n",
       "      <td>0.000000</td>\n",
       "    </tr>\n",
       "    <tr>\n",
       "      <th>1%</th>\n",
       "      <td>1995.000000</td>\n",
       "      <td>0.084000</td>\n",
       "    </tr>\n",
       "    <tr>\n",
       "      <th>5%</th>\n",
       "      <td>1996.000000</td>\n",
       "      <td>0.152000</td>\n",
       "    </tr>\n",
       "    <tr>\n",
       "      <th>50%</th>\n",
       "      <td>2006.000000</td>\n",
       "      <td>2.331000</td>\n",
       "    </tr>\n",
       "    <tr>\n",
       "      <th>95%</th>\n",
       "      <td>2017.000000</td>\n",
       "      <td>66.479000</td>\n",
       "    </tr>\n",
       "    <tr>\n",
       "      <th>99%</th>\n",
       "      <td>2018.000000</td>\n",
       "      <td>121.745700</td>\n",
       "    </tr>\n",
       "    <tr>\n",
       "      <th>max</th>\n",
       "      <td>2018.000000</td>\n",
       "      <td>224.187000</td>\n",
       "    </tr>\n",
       "  </tbody>\n",
       "</table>\n",
       "</div>"
      ],
      "text/plain": [
       "                year          value\n",
       "count  165144.000000  165144.000000\n",
       "mean     2005.768650      11.047894\n",
       "std         6.800774      24.956184\n",
       "min      1995.000000       0.000000\n",
       "1%       1995.000000       0.084000\n",
       "5%       1996.000000       0.152000\n",
       "50%      2006.000000       2.331000\n",
       "95%      2017.000000      66.479000\n",
       "99%      2018.000000     121.745700\n",
       "max      2018.000000     224.187000"
      ]
     },
     "execution_count": 25,
     "metadata": {},
     "output_type": "execute_result"
    }
   ],
   "source": [
    "#percentile\n",
    "perc_CPI = CPI_data.describe(percentiles=[.01,.05,.95,.99])\n",
    "perc_CPI"
   ]
  },
  {
   "cell_type": "markdown",
   "metadata": {},
   "source": [
    "This helps us to see that a majority of the CPI_values found in the data are below 2.331. We can also see that extremely high CPI values are an extreme case for this time period."
   ]
  },
  {
   "cell_type": "markdown",
   "metadata": {},
   "source": [
    "I will now look to see if there are any relationships between different months of the year and CPI values and different years and CPI values."
   ]
  },
  {
   "cell_type": "code",
   "execution_count": 26,
   "metadata": {},
   "outputs": [
    {
     "data": {
      "text/plain": [
       "period\n",
       "M01    11.185728\n",
       "M02    11.061507\n",
       "M03    11.039981\n",
       "M04    11.058573\n",
       "M05    11.131108\n",
       "M06    11.159358\n",
       "M07    10.732657\n",
       "M08    10.666333\n",
       "M09    10.980489\n",
       "M10    11.088401\n",
       "M11    11.233913\n",
       "M12    11.257393\n",
       "Name: value, dtype: float64"
      ]
     },
     "execution_count": 26,
     "metadata": {},
     "output_type": "execute_result"
    }
   ],
   "source": [
    "#avg CPI by month\n",
    "CPI_month_avg = CPI_data.groupby(\"period\")[\"value\"].mean()\n",
    "CPI_month_avg"
   ]
  },
  {
   "cell_type": "code",
   "execution_count": 27,
   "metadata": {},
   "outputs": [
    {
     "data": {
      "text/plain": [
       "year\n",
       "1995     9.740221\n",
       "1996     9.773366\n",
       "1997    10.178626\n",
       "1998     9.119210\n",
       "1999     9.202973\n",
       "2000    10.474468\n",
       "2001    12.080067\n",
       "2002    10.910203\n",
       "2003    12.710991\n",
       "2004    13.618790\n",
       "2005    15.714482\n",
       "2006    16.049112\n",
       "2007    16.005357\n",
       "2008    17.746972\n",
       "2009    15.105921\n",
       "2010    14.830068\n",
       "2011    15.007988\n",
       "2012    14.470437\n",
       "2013     9.658718\n",
       "2014     3.068437\n",
       "2015     2.808523\n",
       "2016     2.607550\n",
       "2017     2.714509\n",
       "2018     2.758879\n",
       "Name: value, dtype: float64"
      ]
     },
     "execution_count": 27,
     "metadata": {},
     "output_type": "execute_result"
    }
   ],
   "source": [
    "#avg CPI by year\n",
    "CPI_year_avg = CPI_data.groupby(\"year\")[\"value\"].mean()\n",
    "CPI_year_avg"
   ]
  },
  {
   "cell_type": "markdown",
   "metadata": {},
   "source": [
    "In looking at this, there seems to be no pattern in CPI and months of the year. Although CPI values do seem to be lower in late summer months it isn't by a significant amount. Otherwise, CPI values hover around 11. However, when comparing the years and values there does seem to be a significant trend. In months leading up to the Great Recession CPI values grow. This shows that the economy was seeing much higher inflation rates. Average CPI values peak in 2007 when the recession hit and decrease until present day. These values do predict what I would expect to see."
   ]
  },
  {
   "cell_type": "markdown",
   "metadata": {},
   "source": [
    "# Visualize Data"
   ]
  },
  {
   "cell_type": "markdown",
   "metadata": {},
   "source": [
    "I will now visualize the relationship between CPI values and years over time."
   ]
  },
  {
   "cell_type": "code",
   "execution_count": 60,
   "metadata": {},
   "outputs": [
    {
     "data": {
      "text/plain": [
       "Text(0,0.5,'CPI Value')"
      ]
     },
     "execution_count": 60,
     "metadata": {},
     "output_type": "execute_result"
    },
    {
     "data": {
      "image/png": "[encoded data removed]",
      "text/plain": [
       "<Figure size 504x504 with 1 Axes>"
      ]
     },
     "metadata": {},
     "output_type": "display_data"
    }
   ],
   "source": [
    "#line plot\n",
    "plt.plot(CPI_year_avg)\n",
    "#resize\n",
    "sns.set(rc={'figure.figsize':(7, 2)})\n",
    "#label axis\n",
    "plt.xlabel('Year')\n",
    "plt.ylabel('CPI Value')"
   ]
  },
  {
   "cell_type": "markdown",
   "metadata": {},
   "source": [
    "In this graph you can see the relationship between CPI values and years over time."
   ]
  },
  {
   "cell_type": "markdown",
   "metadata": {},
   "source": [
    "# Data Set 3: Excel File"
   ]
  },
  {
   "cell_type": "markdown",
   "metadata": {},
   "source": [
    "For my third data set I decided to use an excel file. A project that I had at work was to record some sales data. The data records the results of an email campaign. It shows who was contacted, their position, whether they accepted a LinkedIn invite, whether the contact resulted in a meeting and what day of the email campaign that the target responded. The question of interest is to see if there are any positive correlations with any of the variables and accepting LinkedIn invites. People who accept LinkedIn invites are more likely to set up a meeting and so it is of interest to determine who is most likely to accept. "
   ]
  },
  {
   "cell_type": "markdown",
   "metadata": {},
   "source": [
    "I will now download the data."
   ]
  },
  {
   "cell_type": "code",
   "execution_count": 38,
   "metadata": {},
   "outputs": [],
   "source": [
    "#download data\n",
    "sales = pd.read_excel(\"/Users/brandonhawkins/Saleshw1.xlsx\")"
   ]
  },
  {
   "cell_type": "markdown",
   "metadata": {},
   "source": [
    "# Clean Data\n",
    "I will now clean the data to make it easier to work with"
   ]
  },
  {
   "cell_type": "code",
   "execution_count": 39,
   "metadata": {},
   "outputs": [
    {
     "data": {
      "text/html": [
       "<div>\n",
       "<style scoped>\n",
       "    .dataframe tbody tr th:only-of-type {\n",
       "        vertical-align: middle;\n",
       "    }\n",
       "\n",
       "    .dataframe tbody tr th {\n",
       "        vertical-align: top;\n",
       "    }\n",
       "\n",
       "    .dataframe thead th {\n",
       "        text-align: right;\n",
       "    }\n",
       "</style>\n",
       "<table border=\"1\" class=\"dataframe\">\n",
       "  <thead>\n",
       "    <tr style=\"text-align: right;\">\n",
       "      <th></th>\n",
       "      <th>Name</th>\n",
       "      <th>Position</th>\n",
       "      <th>Company Name</th>\n",
       "      <th>Accepted LinkedIn</th>\n",
       "      <th>Meeting?</th>\n",
       "      <th>Email # Responded</th>\n",
       "    </tr>\n",
       "  </thead>\n",
       "  <tbody>\n",
       "    <tr>\n",
       "      <th>0</th>\n",
       "      <td>Joe Wright</td>\n",
       "      <td>CEO and Founder</td>\n",
       "      <td>Access Mobility 24</td>\n",
       "      <td>1</td>\n",
       "      <td>Yes</td>\n",
       "      <td>Day 3</td>\n",
       "    </tr>\n",
       "    <tr>\n",
       "      <th>1</th>\n",
       "      <td>Steve Sowers</td>\n",
       "      <td>Executive Vice President</td>\n",
       "      <td>Legalinc.com</td>\n",
       "      <td>1</td>\n",
       "      <td>Yes</td>\n",
       "      <td>Day 5</td>\n",
       "    </tr>\n",
       "    <tr>\n",
       "      <th>2</th>\n",
       "      <td>Jake Harry</td>\n",
       "      <td>Sales Manager</td>\n",
       "      <td>North State Consulting</td>\n",
       "      <td>0</td>\n",
       "      <td>No</td>\n",
       "      <td>Day 12</td>\n",
       "    </tr>\n",
       "    <tr>\n",
       "      <th>3</th>\n",
       "      <td>Lauren Gertske</td>\n",
       "      <td>Director Enterprise Sales</td>\n",
       "      <td>Blue Label Labs Incorporated</td>\n",
       "      <td>1</td>\n",
       "      <td>No</td>\n",
       "      <td>Day 2</td>\n",
       "    </tr>\n",
       "    <tr>\n",
       "      <th>4</th>\n",
       "      <td>Scott McRoskey</td>\n",
       "      <td>Director of Sales</td>\n",
       "      <td>MixRank Company</td>\n",
       "      <td>1</td>\n",
       "      <td>No</td>\n",
       "      <td>Day 5</td>\n",
       "    </tr>\n",
       "  </tbody>\n",
       "</table>\n",
       "</div>"
      ],
      "text/plain": [
       "             Name                   Position                  Company Name  \\\n",
       "0      Joe Wright            CEO and Founder            Access Mobility 24   \n",
       "1    Steve Sowers   Executive Vice President                  Legalinc.com   \n",
       "2      Jake Harry              Sales Manager        North State Consulting   \n",
       "3  Lauren Gertske  Director Enterprise Sales  Blue Label Labs Incorporated   \n",
       "4  Scott McRoskey          Director of Sales               MixRank Company   \n",
       "\n",
       "   Accepted LinkedIn Meeting? Email # Responded  \n",
       "0                  1      Yes             Day 3  \n",
       "1                  1      Yes             Day 5  \n",
       "2                  0       No            Day 12  \n",
       "3                  1       No             Day 2  \n",
       "4                  1       No             Day 5  "
      ]
     },
     "execution_count": 39,
     "metadata": {},
     "output_type": "execute_result"
    }
   ],
   "source": [
    "#see first five rows of data\n",
    "sales.head(5)"
   ]
  },
  {
   "cell_type": "markdown",
   "metadata": {},
   "source": [
    "I will now check to see if there is any missing data."
   ]
  },
  {
   "cell_type": "code",
   "execution_count": 41,
   "metadata": {},
   "outputs": [
    {
     "data": {
      "text/plain": [
       "Name                  0\n",
       "Position             24\n",
       "Company Name          0\n",
       "Accepted LinkedIn     0\n",
       "Meeting?              0\n",
       "Email # Responded    64\n",
       "dtype: int64"
      ]
     },
     "execution_count": 41,
     "metadata": {},
     "output_type": "execute_result"
    }
   ],
   "source": [
    "#check for missing data\n",
    "sales.isnull().sum()"
   ]
  },
  {
   "cell_type": "markdown",
   "metadata": {},
   "source": [
    "The only missing data is 24 position entries. It would be impossible for me to find a way to fill in the missing data so I will not have a way to fix it. The data set is also very small so I will not drop the entries either. I will focus my question on a relationship between accepting a LinkedIn invited and when they respond to the email."
   ]
  },
  {
   "cell_type": "markdown",
   "metadata": {},
   "source": [
    "I will now check to see what different entries I have for both accepted LinkedIn and Email # Responded to see if I have anything out of the ordinary."
   ]
  },
  {
   "cell_type": "code",
   "execution_count": 42,
   "metadata": {},
   "outputs": [
    {
     "data": {
      "text/plain": [
       "array([1, 0])"
      ]
     },
     "execution_count": 42,
     "metadata": {},
     "output_type": "execute_result"
    }
   ],
   "source": [
    "#see different Accepted LinkedIn values\n",
    "sales['Accepted LinkedIn'].unique()"
   ]
  },
  {
   "cell_type": "code",
   "execution_count": 34,
   "metadata": {},
   "outputs": [
    {
     "data": {
      "text/plain": [
       "array(['Day 3', 'Day 5', 'Day 12', 'Day 2', 'No Response', 'Wrong email',\n",
       "       'No email', 'Day 15', 'Day 9', 'Wrong Email', 'Not applicable',\n",
       "       'Blocked Email'], dtype=object)"
      ]
     },
     "execution_count": 34,
     "metadata": {},
     "output_type": "execute_result"
    }
   ],
   "source": [
    "#see different Email # Responded values\n",
    "sales['Email # Responded'].unique()"
   ]
  },
  {
   "cell_type": "markdown",
   "metadata": {},
   "source": [
    "All of the entries seem to make sense so I do not have to worry about any outliers."
   ]
  },
  {
   "cell_type": "markdown",
   "metadata": {},
   "source": [
    "Now that we have cleaned the data set, we can look to see if there are any interesting relationships."
   ]
  },
  {
   "cell_type": "markdown",
   "metadata": {},
   "source": [
    "# Describe Data"
   ]
  },
  {
   "cell_type": "markdown",
   "metadata": {},
   "source": [
    "We will now look at the summary statistics and percentiles to get an overall idea of what the data is telling us."
   ]
  },
  {
   "cell_type": "code",
   "execution_count": 43,
   "metadata": {},
   "outputs": [
    {
     "data": {
      "text/html": [
       "<div>\n",
       "<style scoped>\n",
       "    .dataframe tbody tr th:only-of-type {\n",
       "        vertical-align: middle;\n",
       "    }\n",
       "\n",
       "    .dataframe tbody tr th {\n",
       "        vertical-align: top;\n",
       "    }\n",
       "\n",
       "    .dataframe thead th {\n",
       "        text-align: right;\n",
       "    }\n",
       "</style>\n",
       "<table border=\"1\" class=\"dataframe\">\n",
       "  <thead>\n",
       "    <tr style=\"text-align: right;\">\n",
       "      <th></th>\n",
       "      <th>Accepted LinkedIn</th>\n",
       "    </tr>\n",
       "  </thead>\n",
       "  <tbody>\n",
       "    <tr>\n",
       "      <th>count</th>\n",
       "      <td>121.000000</td>\n",
       "    </tr>\n",
       "    <tr>\n",
       "      <th>mean</th>\n",
       "      <td>0.190083</td>\n",
       "    </tr>\n",
       "    <tr>\n",
       "      <th>std</th>\n",
       "      <td>0.393998</td>\n",
       "    </tr>\n",
       "    <tr>\n",
       "      <th>min</th>\n",
       "      <td>0.000000</td>\n",
       "    </tr>\n",
       "    <tr>\n",
       "      <th>25%</th>\n",
       "      <td>0.000000</td>\n",
       "    </tr>\n",
       "    <tr>\n",
       "      <th>50%</th>\n",
       "      <td>0.000000</td>\n",
       "    </tr>\n",
       "    <tr>\n",
       "      <th>75%</th>\n",
       "      <td>0.000000</td>\n",
       "    </tr>\n",
       "    <tr>\n",
       "      <th>max</th>\n",
       "      <td>1.000000</td>\n",
       "    </tr>\n",
       "  </tbody>\n",
       "</table>\n",
       "</div>"
      ],
      "text/plain": [
       "       Accepted LinkedIn\n",
       "count         121.000000\n",
       "mean            0.190083\n",
       "std             0.393998\n",
       "min             0.000000\n",
       "25%             0.000000\n",
       "50%             0.000000\n",
       "75%             0.000000\n",
       "max             1.000000"
      ]
     },
     "execution_count": 43,
     "metadata": {},
     "output_type": "execute_result"
    }
   ],
   "source": [
    "#summary statistics\n",
    "sum_stats_sales = sales.describe()\n",
    "sum_stats_sales"
   ]
  },
  {
   "cell_type": "code",
   "execution_count": 48,
   "metadata": {},
   "outputs": [
    {
     "data": {
      "text/plain": [
       "Email # Responded\n",
       "Day 12         0.000000\n",
       "Day 15         1.000000\n",
       "Day 2          0.333333\n",
       "Day 3          0.333333\n",
       "Day 5          1.000000\n",
       "Day 9          0.000000\n",
       "No Response    0.235294\n",
       "No email       0.500000\n",
       "Wrong email    0.000000\n",
       "Name: Accepted LinkedIn, dtype: float64"
      ]
     },
     "execution_count": 48,
     "metadata": {},
     "output_type": "execute_result"
    }
   ],
   "source": [
    "#average broken up by when they responded\n",
    "acc_avg = sales.groupby(\"Email # Responded\")[\"Accepted LinkedIn\"].mean()\n",
    "acc_avg"
   ]
  },
  {
   "cell_type": "code",
   "execution_count": 50,
   "metadata": {},
   "outputs": [
    {
     "data": {
      "text/html": [
       "<div>\n",
       "<style scoped>\n",
       "    .dataframe tbody tr th:only-of-type {\n",
       "        vertical-align: middle;\n",
       "    }\n",
       "\n",
       "    .dataframe tbody tr th {\n",
       "        vertical-align: top;\n",
       "    }\n",
       "\n",
       "    .dataframe thead th {\n",
       "        text-align: right;\n",
       "    }\n",
       "</style>\n",
       "<table border=\"1\" class=\"dataframe\">\n",
       "  <thead>\n",
       "    <tr style=\"text-align: right;\">\n",
       "      <th></th>\n",
       "      <th>Accepted LinkedIn</th>\n",
       "    </tr>\n",
       "  </thead>\n",
       "  <tbody>\n",
       "    <tr>\n",
       "      <th>count</th>\n",
       "      <td>121.000000</td>\n",
       "    </tr>\n",
       "    <tr>\n",
       "      <th>mean</th>\n",
       "      <td>0.190083</td>\n",
       "    </tr>\n",
       "    <tr>\n",
       "      <th>std</th>\n",
       "      <td>0.393998</td>\n",
       "    </tr>\n",
       "    <tr>\n",
       "      <th>min</th>\n",
       "      <td>0.000000</td>\n",
       "    </tr>\n",
       "    <tr>\n",
       "      <th>1%</th>\n",
       "      <td>0.000000</td>\n",
       "    </tr>\n",
       "    <tr>\n",
       "      <th>5%</th>\n",
       "      <td>0.000000</td>\n",
       "    </tr>\n",
       "    <tr>\n",
       "      <th>50%</th>\n",
       "      <td>0.000000</td>\n",
       "    </tr>\n",
       "    <tr>\n",
       "      <th>95%</th>\n",
       "      <td>1.000000</td>\n",
       "    </tr>\n",
       "    <tr>\n",
       "      <th>99%</th>\n",
       "      <td>1.000000</td>\n",
       "    </tr>\n",
       "    <tr>\n",
       "      <th>max</th>\n",
       "      <td>1.000000</td>\n",
       "    </tr>\n",
       "  </tbody>\n",
       "</table>\n",
       "</div>"
      ],
      "text/plain": [
       "       Accepted LinkedIn\n",
       "count         121.000000\n",
       "mean            0.190083\n",
       "std             0.393998\n",
       "min             0.000000\n",
       "1%              0.000000\n",
       "5%              0.000000\n",
       "50%             0.000000\n",
       "95%             1.000000\n",
       "99%             1.000000\n",
       "max             1.000000"
      ]
     },
     "execution_count": 50,
     "metadata": {},
     "output_type": "execute_result"
    }
   ],
   "source": [
    "#percentiles\n",
    "perc_sales = sales.describe(percentiles=[.01,.05,.95,.99])\n",
    "perc_sales"
   ]
  },
  {
   "cell_type": "markdown",
   "metadata": {},
   "source": [
    "From these statistics we can see that among those that responded it is more likely for those that have accepted a LinkedIn invitation to respond on either Day 5 or 15. We can also see that a majority of these people do not accept LinkedIn invitations so it could be that we are not using good measures to find those that would be more likely to accept LinkedIn invites."
   ]
  },
  {
   "cell_type": "markdown",
   "metadata": {},
   "source": [
    "# Visualize Data"
   ]
  },
  {
   "cell_type": "markdown",
   "metadata": {},
   "source": [
    "I will now visualize these results to help understand the effects that we saw."
   ]
  },
  {
   "cell_type": "code",
   "execution_count": 70,
   "metadata": {},
   "outputs": [
    {
     "data": {
      "image/png": "[encoded data removed]",
      "text/plain": [
       "<Figure size 648x504 with 1 Axes>"
      ]
     },
     "metadata": {},
     "output_type": "display_data"
    }
   ],
   "source": [
    "#bar plot\n",
    "sns.set(style=\"whitegrid\")\n",
    "ax = sns.barplot(x=\"Email # Responded\", y=\"Accepted LinkedIn\", data=sales)\n",
    "#resize\n",
    "sns.set(rc={'figure.figsize':(12, 10)})"
   ]
  },
  {
   "cell_type": "markdown",
   "metadata": {},
   "source": [
    "In this graph we can visualize the results reported above. It is more likely that someone who has accepted a LinkedIn invitation will respond on Day 5 or 15. It is the least likely that they will respond on Day 9 or 12. Although we do see these results it would be wise to gain a bigger data set because these results may not be representative of the population we are looking at."
   ]
  }
 ],
 "metadata": {
  "kernelspec": {
   "display_name": "Python 3",
   "language": "python",
   "name": "python3"
  },
  "language_info": {
   "codemirror_mode": {
    "name": "ipython",
    "version": 3
   },
   "file_extension": ".py",
   "mimetype": "text/x-python",
   "name": "python",
   "nbconvert_exporter": "python",
   "pygments_lexer": "ipython3",
   "version": "3.6.5"
  }
 },
 "nbformat": 4,
 "nbformat_minor": 2
}
